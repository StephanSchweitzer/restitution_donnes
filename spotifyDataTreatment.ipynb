{
 "cells": [
  {
   "cell_type": "code",
   "execution_count": 3,
   "id": "initial_id",
   "metadata": {
    "collapsed": true,
    "ExecuteTime": {
     "end_time": "2024-07-10T15:11:02.851211100Z",
     "start_time": "2024-07-10T15:11:02.851211100Z"
    }
   },
   "outputs": [],
   "source": [
    "import pandas as pd\n",
    "import numpy as np"
   ]
  },
  {
   "cell_type": "code",
   "execution_count": 3,
   "outputs": [
    {
     "name": "stdout",
     "output_type": "stream",
     "text": [
      "Average memory usage per row: 1488.749 bytes\n"
     ]
    }
   ],
   "source": [
    "# sample = pd.read_csv('data/merged_data.csv', nrows=1000)\n",
    "# \n",
    "# # Estimate the memory usage of the sample\n",
    "# memory_usage = sample.memory_usage(deep=True).sum()\n",
    "# \n",
    "# # Calculate the average memory usage per row\n",
    "# average_memory_per_row = memory_usage / len(sample)\n",
    "# print(f\"Average memory usage per row: {average_memory_per_row} bytes\")"
   ],
   "metadata": {
    "collapsed": false,
    "ExecuteTime": {
     "end_time": "2024-07-10T14:19:43.520641100Z",
     "start_time": "2024-07-10T14:19:43.473244300Z"
    }
   },
   "id": "4af4e5652db601b4"
  },
  {
   "cell_type": "code",
   "execution_count": 4,
   "outputs": [
    {
     "name": "stdout",
     "output_type": "stream",
     "text": [
      "Estimated rows per chunk: 10818564.0\n",
      "Chunk size: 10818564 rows\n"
     ]
    }
   ],
   "source": [
    "# total_memory_available = 15 * 1024**3  # 15 GB in bytes\n",
    "# \n",
    "# # Estimate the average memory usage per row\n",
    "# sample = pd.read_csv('data/merged_data.csv', nrows=1000)\n",
    "# memory_usage = sample.memory_usage(deep=True).sum()\n",
    "# average_memory_per_row = memory_usage / len(sample)\n",
    "# \n",
    "# # Calculate the number of rows that can fit into the available memory\n",
    "# rows_per_chunk = total_memory_available // average_memory_per_row\n",
    "# \n",
    "# print(f\"Estimated rows per chunk: {rows_per_chunk}\")\n",
    "# \n",
    "# # Define the chunk size\n",
    "# chunk_size = int(rows_per_chunk)\n",
    "# \n",
    "# print(f\"Chunk size: {chunk_size} rows\")"
   ],
   "metadata": {
    "collapsed": false,
    "ExecuteTime": {
     "end_time": "2024-07-10T14:19:43.725736600Z",
     "start_time": "2024-07-10T14:19:43.647104200Z"
    }
   },
   "id": "28f738792c79e06"
  },
  {
   "cell_type": "code",
   "execution_count": 4,
   "outputs": [
    {
     "name": "stderr",
     "output_type": "stream",
     "text": [
      "/tmp/ipykernel_39636/3649777399.py:2: DtypeWarning: Columns (14) have mixed types. Specify dtype option on import or set low_memory=False.\n",
      "  partition_2 = pd.read_csv('data/merged_data.csv', skiprows=10818564)\n"
     ]
    }
   ],
   "source": [
    "#partition_1 = pd.read_csv('data/merged_data.csv', nrows=10818564)\n",
    "partition_2 = pd.read_csv('data/merged_data.csv', skiprows=10818564)"
   ],
   "metadata": {
    "collapsed": false,
    "ExecuteTime": {
     "end_time": "2024-07-10T15:15:10.915497200Z",
     "start_time": "2024-07-10T15:11:06.422066500Z"
    }
   },
   "id": "4466c723d8a4d6e3"
  },
  {
   "cell_type": "code",
   "execution_count": 7,
   "outputs": [
    {
     "data": {
      "text/plain": "15355705"
     },
     "execution_count": 7,
     "metadata": {},
     "output_type": "execute_result"
    }
   ],
   "source": [
    "partition_2.shape[0]"
   ],
   "metadata": {
    "collapsed": false,
    "ExecuteTime": {
     "end_time": "2024-07-10T15:16:47.161740500Z",
     "start_time": "2024-07-10T15:16:47.114934800Z"
    }
   },
   "id": "2418472cccfc659c"
  },
  {
   "cell_type": "code",
   "execution_count": 7,
   "outputs": [],
   "source": [],
   "metadata": {
    "collapsed": false,
    "ExecuteTime": {
     "end_time": "2024-07-10T15:17:03.154179700Z",
     "start_time": "2024-07-10T15:17:03.107119600Z"
    }
   },
   "id": "c33b24d27c6a24a3"
  },
  {
   "cell_type": "code",
   "execution_count": 10,
   "outputs": [
    {
     "data": {
      "text/plain": "   10818563  What A Man Gotta Do   49  2020-03-24 Jonas Brothers  \\\n0  10818564       Sunday Morning   50  2020-03-24    Mitch James   \n1  10818565           קרובה אליי  135  2019-12-31     Eyal Golan   \n2  10818566  If I Can't Have You  136  2019-12-31   Shawn Mendes   \n3  10818567            אחת כמוני  137  2019-12-31   Liran Danino   \n4  10818568     נתראה בגלגול הבא  138  2019-12-31  Ravid Plotnik   \n\n  https://open.spotify.com/track/4wNIkl5XGiAACjFBlDWuSd  New Zealand  top200  \\\n0  https://open.spotify.com/track/1Asq6gE9O44i5kr...     New Zealand  top200   \n1  https://open.spotify.com/track/1yxyUsXduZu7DyS...          Israel  top200   \n2  https://open.spotify.com/track/2bT1PH7Cw3J9p3t...          Israel  top200   \n3  https://open.spotify.com/track/2BmYBeZOsPPg2Of...          Israel  top200   \n4  https://open.spotify.com/track/2KJGTf9nJq9HoRw...          Israel  top200   \n\n         MOVE_UP  13447.0  ...  9.0  -7.206  1.0  0.0629 0.00839 1.03e-06  \\\n0        MOVE_UP  13269.0  ...  8.0  -5.754  0.0  0.0598  0.0214    0.000   \n1  SAME_POSITION   3205.0  ...  1.0  -7.622  0.0  0.0463  0.4350    0.000   \n2      MOVE_DOWN   3191.0  ...  2.0  -4.197  1.0  0.0623  0.4870    0.000   \n3        MOVE_UP   3191.0  ...  3.0 -10.021  0.0  0.0381  0.8160    0.000   \n4      MOVE_DOWN   3181.0  ...  6.0 -13.945  0.0  0.0391  0.1840    0.482   \n\n  0.0773  0.324  113.039  4.0  \n0  0.294  0.861  104.253  4.0  \n1  0.126  0.322  143.876  4.0  \n2  0.134  0.870  123.935  4.0  \n3  0.263  0.316  127.793  4.0  \n4  0.680  0.198  111.453  3.0  \n\n[5 rows x 29 columns]",
      "text/html": "<div>\n<style scoped>\n    .dataframe tbody tr th:only-of-type {\n        vertical-align: middle;\n    }\n\n    .dataframe tbody tr th {\n        vertical-align: top;\n    }\n\n    .dataframe thead th {\n        text-align: right;\n    }\n</style>\n<table border=\"1\" class=\"dataframe\">\n  <thead>\n    <tr style=\"text-align: right;\">\n      <th></th>\n      <th>10818563</th>\n      <th>What A Man Gotta Do</th>\n      <th>49</th>\n      <th>2020-03-24</th>\n      <th>Jonas Brothers</th>\n      <th>https://open.spotify.com/track/4wNIkl5XGiAACjFBlDWuSd</th>\n      <th>New Zealand</th>\n      <th>top200</th>\n      <th>MOVE_UP</th>\n      <th>13447.0</th>\n      <th>...</th>\n      <th>9.0</th>\n      <th>-7.206</th>\n      <th>1.0</th>\n      <th>0.0629</th>\n      <th>0.00839</th>\n      <th>1.03e-06</th>\n      <th>0.0773</th>\n      <th>0.324</th>\n      <th>113.039</th>\n      <th>4.0</th>\n    </tr>\n  </thead>\n  <tbody>\n    <tr>\n      <th>0</th>\n      <td>10818564</td>\n      <td>Sunday Morning</td>\n      <td>50</td>\n      <td>2020-03-24</td>\n      <td>Mitch James</td>\n      <td>https://open.spotify.com/track/1Asq6gE9O44i5kr...</td>\n      <td>New Zealand</td>\n      <td>top200</td>\n      <td>MOVE_UP</td>\n      <td>13269.0</td>\n      <td>...</td>\n      <td>8.0</td>\n      <td>-5.754</td>\n      <td>0.0</td>\n      <td>0.0598</td>\n      <td>0.0214</td>\n      <td>0.000</td>\n      <td>0.294</td>\n      <td>0.861</td>\n      <td>104.253</td>\n      <td>4.0</td>\n    </tr>\n    <tr>\n      <th>1</th>\n      <td>10818565</td>\n      <td>קרובה אליי</td>\n      <td>135</td>\n      <td>2019-12-31</td>\n      <td>Eyal Golan</td>\n      <td>https://open.spotify.com/track/1yxyUsXduZu7DyS...</td>\n      <td>Israel</td>\n      <td>top200</td>\n      <td>SAME_POSITION</td>\n      <td>3205.0</td>\n      <td>...</td>\n      <td>1.0</td>\n      <td>-7.622</td>\n      <td>0.0</td>\n      <td>0.0463</td>\n      <td>0.4350</td>\n      <td>0.000</td>\n      <td>0.126</td>\n      <td>0.322</td>\n      <td>143.876</td>\n      <td>4.0</td>\n    </tr>\n    <tr>\n      <th>2</th>\n      <td>10818566</td>\n      <td>If I Can't Have You</td>\n      <td>136</td>\n      <td>2019-12-31</td>\n      <td>Shawn Mendes</td>\n      <td>https://open.spotify.com/track/2bT1PH7Cw3J9p3t...</td>\n      <td>Israel</td>\n      <td>top200</td>\n      <td>MOVE_DOWN</td>\n      <td>3191.0</td>\n      <td>...</td>\n      <td>2.0</td>\n      <td>-4.197</td>\n      <td>1.0</td>\n      <td>0.0623</td>\n      <td>0.4870</td>\n      <td>0.000</td>\n      <td>0.134</td>\n      <td>0.870</td>\n      <td>123.935</td>\n      <td>4.0</td>\n    </tr>\n    <tr>\n      <th>3</th>\n      <td>10818567</td>\n      <td>אחת כמוני</td>\n      <td>137</td>\n      <td>2019-12-31</td>\n      <td>Liran Danino</td>\n      <td>https://open.spotify.com/track/2BmYBeZOsPPg2Of...</td>\n      <td>Israel</td>\n      <td>top200</td>\n      <td>MOVE_UP</td>\n      <td>3191.0</td>\n      <td>...</td>\n      <td>3.0</td>\n      <td>-10.021</td>\n      <td>0.0</td>\n      <td>0.0381</td>\n      <td>0.8160</td>\n      <td>0.000</td>\n      <td>0.263</td>\n      <td>0.316</td>\n      <td>127.793</td>\n      <td>4.0</td>\n    </tr>\n    <tr>\n      <th>4</th>\n      <td>10818568</td>\n      <td>נתראה בגלגול הבא</td>\n      <td>138</td>\n      <td>2019-12-31</td>\n      <td>Ravid Plotnik</td>\n      <td>https://open.spotify.com/track/2KJGTf9nJq9HoRw...</td>\n      <td>Israel</td>\n      <td>top200</td>\n      <td>MOVE_DOWN</td>\n      <td>3181.0</td>\n      <td>...</td>\n      <td>6.0</td>\n      <td>-13.945</td>\n      <td>0.0</td>\n      <td>0.0391</td>\n      <td>0.1840</td>\n      <td>0.482</td>\n      <td>0.680</td>\n      <td>0.198</td>\n      <td>111.453</td>\n      <td>3.0</td>\n    </tr>\n  </tbody>\n</table>\n<p>5 rows × 29 columns</p>\n</div>"
     },
     "execution_count": 10,
     "metadata": {},
     "output_type": "execute_result"
    }
   ],
   "source": [
    "partition_2.head()"
   ],
   "metadata": {
    "collapsed": false,
    "ExecuteTime": {
     "end_time": "2024-07-10T15:18:23.141572500Z",
     "start_time": "2024-07-10T15:18:23.125819300Z"
    }
   },
   "id": "ece98bf02aff01ae"
  },
  {
   "cell_type": "code",
   "execution_count": 11,
   "outputs": [],
   "source": [
    "#sixth_column = partition_2.iloc[:, 5]"
   ],
   "metadata": {
    "collapsed": false,
    "ExecuteTime": {
     "end_time": "2024-07-10T15:22:10.787729700Z",
     "start_time": "2024-07-10T15:22:10.771752300Z"
    }
   },
   "id": "6dd18abc31ffdc96"
  },
  {
   "cell_type": "code",
   "execution_count": 12,
   "outputs": [
    {
     "data": {
      "text/plain": "0           https://open.spotify.com/track/1Asq6gE9O44i5kr...\n1           https://open.spotify.com/track/1yxyUsXduZu7DyS...\n2           https://open.spotify.com/track/2bT1PH7Cw3J9p3t...\n3           https://open.spotify.com/track/2BmYBeZOsPPg2Of...\n4           https://open.spotify.com/track/2KJGTf9nJq9HoRw...\n                                  ...                        \n15355700    https://open.spotify.com/track/3OUyyDN7EZrL7i0...\n15355701    https://open.spotify.com/track/6eky30oFiQbHUAT...\n15355702    https://open.spotify.com/track/2klsSb2iTfgDh95...\n15355703    https://open.spotify.com/track/1aU1wpYBSpP0M6I...\n15355704    https://open.spotify.com/track/508QhA2SncMbh5C...\nName: https://open.spotify.com/track/4wNIkl5XGiAACjFBlDWuSd, Length: 15355705, dtype: object"
     },
     "execution_count": 12,
     "metadata": {},
     "output_type": "execute_result"
    }
   ],
   "source": [
    "#sixth_column"
   ],
   "metadata": {
    "collapsed": false,
    "ExecuteTime": {
     "end_time": "2024-07-10T15:22:17.491277600Z",
     "start_time": "2024-07-10T15:22:17.460013Z"
    }
   },
   "id": "d758070c39a19025"
  },
  {
   "cell_type": "code",
   "execution_count": 13,
   "outputs": [],
   "source": [
    "partition_2 = partition_2.drop(partition_2.columns[[5, 10, 16]], axis=1)"
   ],
   "metadata": {
    "collapsed": false,
    "ExecuteTime": {
     "end_time": "2024-07-10T15:25:15.595409700Z",
     "start_time": "2024-07-10T15:25:14.445269600Z"
    }
   },
   "id": "40ddd8c5efe42544"
  },
  {
   "cell_type": "code",
   "execution_count": null,
   "outputs": [],
   "source": [
    "partition_2.to_csv(\"partition_2.csv\", sep=\";\")\n"
   ],
   "metadata": {
    "collapsed": false,
    "is_executing": true,
    "ExecuteTime": {
     "start_time": "2024-07-10T15:26:38.040153400Z"
    }
   },
   "id": "f557592db92b780"
  },
  {
   "cell_type": "code",
   "execution_count": null,
   "outputs": [],
   "source": [],
   "metadata": {
    "collapsed": false
   },
   "id": "9b9d9375f4d14202"
  },
  {
   "cell_type": "code",
   "execution_count": 14,
   "outputs": [
    {
     "data": {
      "text/plain": "   10818563  What A Man Gotta Do   49  2020-03-24 Jonas Brothers  New Zealand  \\\n0  10818564       Sunday Morning   50  2020-03-24    Mitch James  New Zealand   \n1  10818565           קרובה אליי  135  2019-12-31     Eyal Golan       Israel   \n2  10818566  If I Can't Have You  136  2019-12-31   Shawn Mendes       Israel   \n3  10818567            אחת כמוני  137  2019-12-31   Liran Danino       Israel   \n4  10818568     נתראה בגלגול הבא  138  2019-12-31  Ravid Plotnik       Israel   \n\n   top200        MOVE_UP  13447.0  What A Man Gotta Do.1  ...  9.0  -7.206  \\\n0  top200        MOVE_UP  13269.0         Sunday Morning  ...  8.0  -5.754   \n1  top200  SAME_POSITION   3205.0             קרובה אליי  ...  1.0  -7.622   \n2  top200      MOVE_DOWN   3191.0  Shawn Mendes (Deluxe)  ...  2.0  -4.197   \n3  top200        MOVE_UP   3191.0              אחת כמוני  ...  3.0 -10.021   \n4  top200      MOVE_DOWN   3181.0   ועכשיו לחלק האומנותי  ...  6.0 -13.945   \n\n   1.0  0.0629  0.00839  1.03e-06  0.0773  0.324  113.039  4.0  \n0  0.0  0.0598   0.0214     0.000   0.294  0.861  104.253  4.0  \n1  0.0  0.0463   0.4350     0.000   0.126  0.322  143.876  4.0  \n2  1.0  0.0623   0.4870     0.000   0.134  0.870  123.935  4.0  \n3  0.0  0.0381   0.8160     0.000   0.263  0.316  127.793  4.0  \n4  0.0  0.0391   0.1840     0.482   0.680  0.198  111.453  3.0  \n\n[5 rows x 26 columns]",
      "text/html": "<div>\n<style scoped>\n    .dataframe tbody tr th:only-of-type {\n        vertical-align: middle;\n    }\n\n    .dataframe tbody tr th {\n        vertical-align: top;\n    }\n\n    .dataframe thead th {\n        text-align: right;\n    }\n</style>\n<table border=\"1\" class=\"dataframe\">\n  <thead>\n    <tr style=\"text-align: right;\">\n      <th></th>\n      <th>10818563</th>\n      <th>What A Man Gotta Do</th>\n      <th>49</th>\n      <th>2020-03-24</th>\n      <th>Jonas Brothers</th>\n      <th>New Zealand</th>\n      <th>top200</th>\n      <th>MOVE_UP</th>\n      <th>13447.0</th>\n      <th>What A Man Gotta Do.1</th>\n      <th>...</th>\n      <th>9.0</th>\n      <th>-7.206</th>\n      <th>1.0</th>\n      <th>0.0629</th>\n      <th>0.00839</th>\n      <th>1.03e-06</th>\n      <th>0.0773</th>\n      <th>0.324</th>\n      <th>113.039</th>\n      <th>4.0</th>\n    </tr>\n  </thead>\n  <tbody>\n    <tr>\n      <th>0</th>\n      <td>10818564</td>\n      <td>Sunday Morning</td>\n      <td>50</td>\n      <td>2020-03-24</td>\n      <td>Mitch James</td>\n      <td>New Zealand</td>\n      <td>top200</td>\n      <td>MOVE_UP</td>\n      <td>13269.0</td>\n      <td>Sunday Morning</td>\n      <td>...</td>\n      <td>8.0</td>\n      <td>-5.754</td>\n      <td>0.0</td>\n      <td>0.0598</td>\n      <td>0.0214</td>\n      <td>0.000</td>\n      <td>0.294</td>\n      <td>0.861</td>\n      <td>104.253</td>\n      <td>4.0</td>\n    </tr>\n    <tr>\n      <th>1</th>\n      <td>10818565</td>\n      <td>קרובה אליי</td>\n      <td>135</td>\n      <td>2019-12-31</td>\n      <td>Eyal Golan</td>\n      <td>Israel</td>\n      <td>top200</td>\n      <td>SAME_POSITION</td>\n      <td>3205.0</td>\n      <td>קרובה אליי</td>\n      <td>...</td>\n      <td>1.0</td>\n      <td>-7.622</td>\n      <td>0.0</td>\n      <td>0.0463</td>\n      <td>0.4350</td>\n      <td>0.000</td>\n      <td>0.126</td>\n      <td>0.322</td>\n      <td>143.876</td>\n      <td>4.0</td>\n    </tr>\n    <tr>\n      <th>2</th>\n      <td>10818566</td>\n      <td>If I Can't Have You</td>\n      <td>136</td>\n      <td>2019-12-31</td>\n      <td>Shawn Mendes</td>\n      <td>Israel</td>\n      <td>top200</td>\n      <td>MOVE_DOWN</td>\n      <td>3191.0</td>\n      <td>Shawn Mendes (Deluxe)</td>\n      <td>...</td>\n      <td>2.0</td>\n      <td>-4.197</td>\n      <td>1.0</td>\n      <td>0.0623</td>\n      <td>0.4870</td>\n      <td>0.000</td>\n      <td>0.134</td>\n      <td>0.870</td>\n      <td>123.935</td>\n      <td>4.0</td>\n    </tr>\n    <tr>\n      <th>3</th>\n      <td>10818567</td>\n      <td>אחת כמוני</td>\n      <td>137</td>\n      <td>2019-12-31</td>\n      <td>Liran Danino</td>\n      <td>Israel</td>\n      <td>top200</td>\n      <td>MOVE_UP</td>\n      <td>3191.0</td>\n      <td>אחת כמוני</td>\n      <td>...</td>\n      <td>3.0</td>\n      <td>-10.021</td>\n      <td>0.0</td>\n      <td>0.0381</td>\n      <td>0.8160</td>\n      <td>0.000</td>\n      <td>0.263</td>\n      <td>0.316</td>\n      <td>127.793</td>\n      <td>4.0</td>\n    </tr>\n    <tr>\n      <th>4</th>\n      <td>10818568</td>\n      <td>נתראה בגלגול הבא</td>\n      <td>138</td>\n      <td>2019-12-31</td>\n      <td>Ravid Plotnik</td>\n      <td>Israel</td>\n      <td>top200</td>\n      <td>MOVE_DOWN</td>\n      <td>3181.0</td>\n      <td>ועכשיו לחלק האומנותי</td>\n      <td>...</td>\n      <td>6.0</td>\n      <td>-13.945</td>\n      <td>0.0</td>\n      <td>0.0391</td>\n      <td>0.1840</td>\n      <td>0.482</td>\n      <td>0.680</td>\n      <td>0.198</td>\n      <td>111.453</td>\n      <td>3.0</td>\n    </tr>\n  </tbody>\n</table>\n<p>5 rows × 26 columns</p>\n</div>"
     },
     "execution_count": 14,
     "metadata": {},
     "output_type": "execute_result"
    }
   ],
   "source": [
    "partition_2.head(1).to_csv(\"lost_song_cuz_of_index.csv\", sep=\";\")"
   ],
   "metadata": {
    "collapsed": false,
    "ExecuteTime": {
     "end_time": "2024-07-10T15:25:24.380035800Z",
     "start_time": "2024-07-10T15:25:24.380035800Z"
    }
   },
   "id": "1145ff2df5b2ab26"
  },
  {
   "cell_type": "code",
   "execution_count": 15,
   "outputs": [
    {
     "name": "stdout",
     "output_type": "stream",
     "text": [
      "Total memory usage of the DataFrame: 11170997265 bytes\n"
     ]
    }
   ],
   "source": [
    "memory_usage = partition_2.memory_usage(deep=True)\n",
    "\n",
    "# Calculate the total memory usage\n",
    "total_memory = memory_usage.sum()\n",
    "\n",
    "print(f\"Total memory usage of the DataFrame: {total_memory} bytes\")\n",
    "#18836216574 bytes = 17.54 GB"
   ],
   "metadata": {
    "collapsed": false,
    "ExecuteTime": {
     "end_time": "2024-07-10T15:25:55.766072200Z",
     "start_time": "2024-07-10T15:25:49.499131Z"
    }
   },
   "id": "be347f5371c88458"
  },
  {
   "cell_type": "code",
   "execution_count": 9,
   "outputs": [
    {
     "ename": "KeyError",
     "evalue": "\"['url', 'track_id', 'available_markets'] not found in axis\"",
     "output_type": "error",
     "traceback": [
      "\u001B[0;31m---------------------------------------------------------------------------\u001B[0m",
      "\u001B[0;31mKeyError\u001B[0m                                  Traceback (most recent call last)",
      "Cell \u001B[0;32mIn[9], line 5\u001B[0m\n\u001B[1;32m      1\u001B[0m columns_to_drop \u001B[38;5;241m=\u001B[39m [\u001B[38;5;124m'\u001B[39m\u001B[38;5;124murl\u001B[39m\u001B[38;5;124m'\u001B[39m, \u001B[38;5;124m'\u001B[39m\u001B[38;5;124mtrack_id\u001B[39m\u001B[38;5;124m'\u001B[39m, \u001B[38;5;124m'\u001B[39m\u001B[38;5;124mavailable_markets\u001B[39m\u001B[38;5;124m'\u001B[39m]\n\u001B[1;32m      2\u001B[0m \u001B[38;5;66;03m#columns_to_drop = ['available_markets']\u001B[39;00m\n\u001B[1;32m      3\u001B[0m \n\u001B[1;32m      4\u001B[0m \u001B[38;5;66;03m# Drop the columns in place\u001B[39;00m\n\u001B[0;32m----> 5\u001B[0m partition_2\u001B[38;5;241m.\u001B[39mdrop(columns\u001B[38;5;241m=\u001B[39mcolumns_to_drop, inplace\u001B[38;5;241m=\u001B[39m\u001B[38;5;28;01mTrue\u001B[39;00m)\n",
      "File \u001B[0;32m~/miniconda3/envs/4A_IABD2/lib/python3.11/site-packages/pandas/core/frame.py:5581\u001B[0m, in \u001B[0;36mDataFrame.drop\u001B[0;34m(self, labels, axis, index, columns, level, inplace, errors)\u001B[0m\n\u001B[1;32m   5433\u001B[0m \u001B[38;5;28;01mdef\u001B[39;00m \u001B[38;5;21mdrop\u001B[39m(\n\u001B[1;32m   5434\u001B[0m     \u001B[38;5;28mself\u001B[39m,\n\u001B[1;32m   5435\u001B[0m     labels: IndexLabel \u001B[38;5;241m|\u001B[39m \u001B[38;5;28;01mNone\u001B[39;00m \u001B[38;5;241m=\u001B[39m \u001B[38;5;28;01mNone\u001B[39;00m,\n\u001B[0;32m   (...)\u001B[0m\n\u001B[1;32m   5442\u001B[0m     errors: IgnoreRaise \u001B[38;5;241m=\u001B[39m \u001B[38;5;124m\"\u001B[39m\u001B[38;5;124mraise\u001B[39m\u001B[38;5;124m\"\u001B[39m,\n\u001B[1;32m   5443\u001B[0m ) \u001B[38;5;241m-\u001B[39m\u001B[38;5;241m>\u001B[39m DataFrame \u001B[38;5;241m|\u001B[39m \u001B[38;5;28;01mNone\u001B[39;00m:\n\u001B[1;32m   5444\u001B[0m \u001B[38;5;250m    \u001B[39m\u001B[38;5;124;03m\"\"\"\u001B[39;00m\n\u001B[1;32m   5445\u001B[0m \u001B[38;5;124;03m    Drop specified labels from rows or columns.\u001B[39;00m\n\u001B[1;32m   5446\u001B[0m \n\u001B[0;32m   (...)\u001B[0m\n\u001B[1;32m   5579\u001B[0m \u001B[38;5;124;03m            weight  1.0     0.8\u001B[39;00m\n\u001B[1;32m   5580\u001B[0m \u001B[38;5;124;03m    \"\"\"\u001B[39;00m\n\u001B[0;32m-> 5581\u001B[0m     \u001B[38;5;28;01mreturn\u001B[39;00m \u001B[38;5;28msuper\u001B[39m()\u001B[38;5;241m.\u001B[39mdrop(\n\u001B[1;32m   5582\u001B[0m         labels\u001B[38;5;241m=\u001B[39mlabels,\n\u001B[1;32m   5583\u001B[0m         axis\u001B[38;5;241m=\u001B[39maxis,\n\u001B[1;32m   5584\u001B[0m         index\u001B[38;5;241m=\u001B[39mindex,\n\u001B[1;32m   5585\u001B[0m         columns\u001B[38;5;241m=\u001B[39mcolumns,\n\u001B[1;32m   5586\u001B[0m         level\u001B[38;5;241m=\u001B[39mlevel,\n\u001B[1;32m   5587\u001B[0m         inplace\u001B[38;5;241m=\u001B[39minplace,\n\u001B[1;32m   5588\u001B[0m         errors\u001B[38;5;241m=\u001B[39merrors,\n\u001B[1;32m   5589\u001B[0m     )\n",
      "File \u001B[0;32m~/miniconda3/envs/4A_IABD2/lib/python3.11/site-packages/pandas/core/generic.py:4788\u001B[0m, in \u001B[0;36mNDFrame.drop\u001B[0;34m(self, labels, axis, index, columns, level, inplace, errors)\u001B[0m\n\u001B[1;32m   4786\u001B[0m \u001B[38;5;28;01mfor\u001B[39;00m axis, labels \u001B[38;5;129;01min\u001B[39;00m axes\u001B[38;5;241m.\u001B[39mitems():\n\u001B[1;32m   4787\u001B[0m     \u001B[38;5;28;01mif\u001B[39;00m labels \u001B[38;5;129;01mis\u001B[39;00m \u001B[38;5;129;01mnot\u001B[39;00m \u001B[38;5;28;01mNone\u001B[39;00m:\n\u001B[0;32m-> 4788\u001B[0m         obj \u001B[38;5;241m=\u001B[39m obj\u001B[38;5;241m.\u001B[39m_drop_axis(labels, axis, level\u001B[38;5;241m=\u001B[39mlevel, errors\u001B[38;5;241m=\u001B[39merrors)\n\u001B[1;32m   4790\u001B[0m \u001B[38;5;28;01mif\u001B[39;00m inplace:\n\u001B[1;32m   4791\u001B[0m     \u001B[38;5;28mself\u001B[39m\u001B[38;5;241m.\u001B[39m_update_inplace(obj)\n",
      "File \u001B[0;32m~/miniconda3/envs/4A_IABD2/lib/python3.11/site-packages/pandas/core/generic.py:4830\u001B[0m, in \u001B[0;36mNDFrame._drop_axis\u001B[0;34m(self, labels, axis, level, errors, only_slice)\u001B[0m\n\u001B[1;32m   4828\u001B[0m         new_axis \u001B[38;5;241m=\u001B[39m axis\u001B[38;5;241m.\u001B[39mdrop(labels, level\u001B[38;5;241m=\u001B[39mlevel, errors\u001B[38;5;241m=\u001B[39merrors)\n\u001B[1;32m   4829\u001B[0m     \u001B[38;5;28;01melse\u001B[39;00m:\n\u001B[0;32m-> 4830\u001B[0m         new_axis \u001B[38;5;241m=\u001B[39m axis\u001B[38;5;241m.\u001B[39mdrop(labels, errors\u001B[38;5;241m=\u001B[39merrors)\n\u001B[1;32m   4831\u001B[0m     indexer \u001B[38;5;241m=\u001B[39m axis\u001B[38;5;241m.\u001B[39mget_indexer(new_axis)\n\u001B[1;32m   4833\u001B[0m \u001B[38;5;66;03m# Case for non-unique axis\u001B[39;00m\n\u001B[1;32m   4834\u001B[0m \u001B[38;5;28;01melse\u001B[39;00m:\n",
      "File \u001B[0;32m~/miniconda3/envs/4A_IABD2/lib/python3.11/site-packages/pandas/core/indexes/base.py:7070\u001B[0m, in \u001B[0;36mIndex.drop\u001B[0;34m(self, labels, errors)\u001B[0m\n\u001B[1;32m   7068\u001B[0m \u001B[38;5;28;01mif\u001B[39;00m mask\u001B[38;5;241m.\u001B[39many():\n\u001B[1;32m   7069\u001B[0m     \u001B[38;5;28;01mif\u001B[39;00m errors \u001B[38;5;241m!=\u001B[39m \u001B[38;5;124m\"\u001B[39m\u001B[38;5;124mignore\u001B[39m\u001B[38;5;124m\"\u001B[39m:\n\u001B[0;32m-> 7070\u001B[0m         \u001B[38;5;28;01mraise\u001B[39;00m \u001B[38;5;167;01mKeyError\u001B[39;00m(\u001B[38;5;124mf\u001B[39m\u001B[38;5;124m\"\u001B[39m\u001B[38;5;132;01m{\u001B[39;00mlabels[mask]\u001B[38;5;241m.\u001B[39mtolist()\u001B[38;5;132;01m}\u001B[39;00m\u001B[38;5;124m not found in axis\u001B[39m\u001B[38;5;124m\"\u001B[39m)\n\u001B[1;32m   7071\u001B[0m     indexer \u001B[38;5;241m=\u001B[39m indexer[\u001B[38;5;241m~\u001B[39mmask]\n\u001B[1;32m   7072\u001B[0m \u001B[38;5;28;01mreturn\u001B[39;00m \u001B[38;5;28mself\u001B[39m\u001B[38;5;241m.\u001B[39mdelete(indexer)\n",
      "\u001B[0;31mKeyError\u001B[0m: \"['url', 'track_id', 'available_markets'] not found in axis\""
     ]
    }
   ],
   "source": [
    "columns_to_drop = ['url', 'track_id', 'available_markets']\n",
    "#columns_to_drop = ['available_markets']\n",
    "\n",
    "# Drop the columns in place\n",
    "partition_2.drop(columns=columns_to_drop, inplace=True)"
   ],
   "metadata": {
    "collapsed": false,
    "ExecuteTime": {
     "end_time": "2024-07-10T15:18:01.355457800Z",
     "start_time": "2024-07-10T15:17:59.238992900Z"
    }
   },
   "id": "cab1ac4e18203672"
  },
  {
   "cell_type": "code",
   "execution_count": 14,
   "outputs": [
    {
     "name": "stdout",
     "output_type": "stream",
     "text": [
      "Total memory usage of the DataFrame: 7865454948 bytes\n"
     ]
    }
   ],
   "source": [
    "memory_usage = partition_2.memory_usage(deep=True)\n",
    "\n",
    "# Calculate the total memory usage\n",
    "total_memory = memory_usage.sum()\n",
    "\n",
    "print(f\"Total memory usage of the DataFrame: {total_memory} bytes\")"
   ],
   "metadata": {
    "collapsed": false,
    "ExecuteTime": {
     "end_time": "2024-07-10T14:31:39.525932400Z",
     "start_time": "2024-07-10T14:31:37.021437700Z"
    }
   },
   "id": "6334bc4c8c09ddfc"
  },
  {
   "cell_type": "code",
   "execution_count": 23,
   "outputs": [
    {
     "name": "stdout",
     "output_type": "stream",
     "text": [
      "7865454948\n"
     ]
    }
   ],
   "source": [
    "print(memory_usage.sum())"
   ],
   "metadata": {
    "collapsed": false,
    "ExecuteTime": {
     "end_time": "2024-07-10T15:05:06.667505Z",
     "start_time": "2024-07-10T15:05:06.667505Z"
    }
   },
   "id": "e9189238e81ac63"
  },
  {
   "cell_type": "code",
   "execution_count": 24,
   "outputs": [],
   "source": [],
   "metadata": {
    "collapsed": false,
    "ExecuteTime": {
     "end_time": "2024-07-10T15:07:50.609540600Z",
     "start_time": "2024-07-10T15:05:54.494171800Z"
    }
   },
   "id": "802fdf4bb5055f5"
  },
  {
   "cell_type": "code",
   "execution_count": null,
   "outputs": [],
   "source": [
    "# filename = 'data/merged_data.csv'\n",
    "# \n",
    "# # Initialize the line count\n",
    "# line_count = 0\n",
    "# \n",
    "# # Open the file and count lines\n",
    "# with open(filename, 'r') as file:\n",
    "#     for line in file:\n",
    "#         line_count += 1\n",
    "# \n",
    "# print(f\"Total number of rows: {line_count}\")\n",
    "#Total number of rows: 26,174,270"
   ],
   "metadata": {
    "collapsed": false
   },
   "id": "6fd2aa816d76bd9d"
  },
  {
   "cell_type": "code",
   "execution_count": 16,
   "outputs": [
    {
     "data": {
      "text/plain": "    Unnamed: 0                                              title  rank  \\\n0            0                            Chantaje (feat. Maluma)     1   \n1            1                        Vente Pa' Ca (feat. Maluma)     2   \n2            2                         Reggaetón Lento (Bailemos)     3   \n3            3                                             Safari     4   \n4            4                                        Shaky Shaky     5   \n5            5                                        Traicionera     6   \n6            6                            Cuando Se Pone a Bailar     7   \n7            7                          Otra vez (feat. J Balvin)     8   \n8            8                                       La Bicicleta     9   \n9            9                             Dile Que Tu Me Quieres    10   \n10          10                                 Andas En Mi Cabeza    11   \n11          11                     Desde Esa Noche (feat. Maluma)    12   \n12          12                                     Borro Cassette    13   \n13          13                    Gyal You A Party Animal - Remix    14   \n14          14                   Me llamas (feat. Maluma) - Remix    15   \n15          15                La Bicicleta (feat. Maluma) - Remix    16   \n16          16                     DUELE EL CORAZON (feat. Wisin)    17   \n17          17                                    Let Me Love You    18   \n18          18                         La Noche No Es para Dormir    19   \n19          19                                         Vacaciones    20   \n20          20            Rockabye (feat. Sean Paul & Anne-Marie)    21   \n21          21                                      Carnavalintro    22   \n22          22        Ay Mi Dios (feat. Pitbull, Yandel & Chacal)    23   \n23          23                                          One Dance    24   \n24          24                                             My Way    25   \n25          25              Cold Water (feat. Justin Bieber & MØ)    26   \n26          26                   La Gozadera (feat. Marc Anthony)    27   \n27          27                               Llamame Mas Temprano    28   \n28          28                                            Starboy    29   \n29          29                                          Manicomio    30   \n30          30  Cuatro Babys (feat. Trap Capos, Noriel, Bryant...    31   \n31          31                                   Don't Wanna Know    32   \n32          32      Sin Contrato (feat. Don Omar & Wisin) - Remix    33   \n33          33                                          24K Magic    34   \n34          34  CAN'T STOP THE FEELING! (Original Song from Dr...    35   \n35          35                                              Fuego    36   \n36          36                                               Bobo    37   \n37          37                                In the Name of Love    38   \n38          38                                           Tu Ritmo    39   \n39          39                I Took A Pill In Ibiza - Seeb Remix    40   \n40          40     Ya Me Enteré (feat. Nicky Jam) - Urban Version    41   \n41          41  No Quiere Enamorarse (Remix) [feat. Daddy Yankee]    42   \n42          42                                    Te Quiero Pa´Mi    43   \n43          43                 Sin Contrato (feat. Fifth Harmony)    44   \n44          44                                              Picky    45   \n45          45                                               Work    46   \n46          46                                         Noche Loca    47   \n47          47                     Don't Let Me Down (feat. Daya)    48   \n48          48                                  Hasta el Amanecer    49   \n49          49                              Le Hace Falta un Beso    50   \n\n          date                                 artist     region   chart  \\\n0   2017-01-01                                Shakira  Argentina  top200   \n1   2017-01-01                           Ricky Martin  Argentina  top200   \n2   2017-01-01                                   CNCO  Argentina  top200   \n3   2017-01-01  J Balvin, Pharrell Williams, BIA, Sky  Argentina  top200   \n4   2017-01-01                           Daddy Yankee  Argentina  top200   \n5   2017-01-01                        Sebastian Yatra  Argentina  top200   \n6   2017-01-01                                 Rombai  Argentina  top200   \n7   2017-01-01                          Zion & Lennox  Argentina  top200   \n8   2017-01-01                  Carlos Vives, Shakira  Argentina  top200   \n9   2017-01-01                                  Ozuna  Argentina  top200   \n10  2017-01-01            Chino & Nacho, Daddy Yankee  Argentina  top200   \n11  2017-01-01                                 Thalia  Argentina  top200   \n12  2017-01-01                                 Maluma  Argentina  top200   \n13  2017-01-01             Charly Black, Daddy Yankee  Argentina  top200   \n14  2017-01-01                                Piso 21  Argentina  top200   \n15  2017-01-01                  Carlos Vives, Shakira  Argentina  top200   \n16  2017-01-01                       Enrique Iglesias  Argentina  top200   \n17  2017-01-01                DJ Snake, Justin Bieber  Argentina  top200   \n18  2017-01-01                            Mano Arriba  Argentina  top200   \n19  2017-01-01                                  Wisin  Argentina  top200   \n20  2017-01-01                           Clean Bandit  Argentina  top200   \n21  2017-01-01                                  Chano  Argentina  top200   \n22  2017-01-01                    IAmChino, El Chacal  Argentina  top200   \n23  2017-01-01                    Drake, WizKid, Kyla  Argentina  top200   \n24  2017-01-01                          Calvin Harris  Argentina  top200   \n25  2017-01-01                            Major Lazer  Argentina  top200   \n26  2017-01-01                          Gente De Zona  Argentina  top200   \n27  2017-01-01                            Mano Arriba  Argentina  top200   \n28  2017-01-01                  The Weeknd, Daft Punk  Argentina  top200   \n29  2017-01-01                            Cosculluela  Argentina  top200   \n30  2017-01-01                                 Maluma  Argentina  top200   \n31  2017-01-01               Maroon 5, Kendrick Lamar  Argentina  top200   \n32  2017-01-01                                 Maluma  Argentina  top200   \n33  2017-01-01                             Bruno Mars  Argentina  top200   \n34  2017-01-01                      Justin Timberlake  Argentina  top200   \n35  2017-01-01                                 Juanes  Argentina  top200   \n36  2017-01-01                               J Balvin  Argentina  top200   \n37  2017-01-01              Martin Garrix, Bebe Rexha  Argentina  top200   \n38  2017-01-01                           Los Bonnitos  Argentina  top200   \n39  2017-01-01                            Mike Posner  Argentina  top200   \n40  2017-01-01                                   Reik  Argentina  top200   \n41  2017-01-01                                  Ozuna  Argentina  top200   \n42  2017-01-01                Don Omar, Zion & Lennox  Argentina  top200   \n43  2017-01-01                                 Maluma  Argentina  top200   \n44  2017-01-01                           Joey Montana  Argentina  top200   \n45  2017-01-01                         Rihanna, Drake  Argentina  top200   \n46  2017-01-01                         Marama, Rombai  Argentina  top200   \n47  2017-01-01                       The Chainsmokers  Argentina  top200   \n48  2017-01-01                              Nicky Jam  Argentina  top200   \n49  2017-01-01                              Agapornis  Argentina  top200   \n\n            trend   streams  \\\n0   SAME_POSITION  253019.0   \n1         MOVE_UP  223988.0   \n2       MOVE_DOWN  210943.0   \n3   SAME_POSITION  173865.0   \n4         MOVE_UP  153956.0   \n5       MOVE_DOWN  151140.0   \n6       MOVE_DOWN  148369.0   \n7       MOVE_DOWN  143004.0   \n8         MOVE_UP  126389.0   \n9       MOVE_DOWN  112012.0   \n10  SAME_POSITION  110395.0   \n11        MOVE_UP  104592.0   \n12        MOVE_UP  101535.0   \n13      MOVE_DOWN   99722.0   \n14      MOVE_DOWN   95010.0   \n15        MOVE_UP   92723.0   \n16        MOVE_UP   91325.0   \n17      MOVE_DOWN   87926.0   \n18  SAME_POSITION   87033.0   \n19      MOVE_DOWN   86103.0   \n20  SAME_POSITION   76123.0   \n21        MOVE_UP   71963.0   \n22        MOVE_UP   71892.0   \n23        MOVE_UP   71498.0   \n24  SAME_POSITION   70795.0   \n25  SAME_POSITION   70260.0   \n26        MOVE_UP   70028.0   \n27        MOVE_UP   69382.0   \n28  SAME_POSITION   65518.0   \n29      MOVE_DOWN   64998.0   \n30      MOVE_DOWN   64907.0   \n31      MOVE_DOWN   61714.0   \n32        MOVE_UP   59903.0   \n33      MOVE_DOWN   58801.0   \n34        MOVE_UP   56170.0   \n35        MOVE_UP   55902.0   \n36        MOVE_UP   55360.0   \n37      MOVE_DOWN   54980.0   \n38        MOVE_UP   54081.0   \n39      MOVE_DOWN   53270.0   \n40      MOVE_DOWN   52907.0   \n41      MOVE_DOWN   52670.0   \n42      MOVE_DOWN   51352.0   \n43        MOVE_UP   51115.0   \n44        MOVE_UP   51113.0   \n45      MOVE_DOWN   50655.0   \n46        MOVE_UP   49100.0   \n47      MOVE_DOWN   48767.0   \n48        MOVE_UP   47672.0   \n49        MOVE_UP   45251.0   \n\n                                                album  ...  af_key  \\\n0                                           El Dorado  ...     8.0   \n1                         Vente Pa' Ca (feat. Maluma)  ...    11.0   \n2                                        Primera Cita  ...     4.0   \n3                                             Energía  ...     0.0   \n4                                         Shaky Shaky  ...     6.0   \n5                                         Traicionera  ...    11.0   \n6                             Cuando Se Pone a Bailar  ...    11.0   \n7                                            Motivan2  ...    10.0   \n8                                           El Dorado  ...     0.0   \n9                              Dile Que Tu Me Quieres  ...     1.0   \n10                                 Andas En Mi Cabeza  ...     9.0   \n11                                             Latina  ...    11.0   \n12                              Pretty Boy, Dirty Boy  ...     5.0   \n13                    Gyal You A Party Animal (Remix)  ...     0.0   \n14                   Me Llamas (feat. Maluma) [Remix]  ...     7.0   \n15                La Bicicleta (feat. Maluma) [Remix]  ...     0.0   \n16                     DUELE EL CORAZON (feat. Wisin)  ...     8.0   \n17                                             Encore  ...     8.0   \n18                La Noche No Es para Dormir - Single  ...     6.0   \n19                                         Vacaciones  ...     6.0   \n20            Rockabye (feat. Sean Paul & Anne-Marie)  ...     9.0   \n21                                      Carnavalintro  ...     6.0   \n22        Ay Mi Dios (feat. Pitbull, Yandel & Chacal)  ...     0.0   \n23                                              Views  ...     1.0   \n24                                             My Way  ...     4.0   \n25              Cold Water (feat. Justin Bieber & MØ)  ...     6.0   \n26                                        Visualízate  ...     9.0   \n27   Llamame Mas Temprano / Hicimos un Pacto - Single  ...    10.0   \n28                                            Starboy  ...     7.0   \n29                                       Blanco Perla  ...     8.0   \n30  Cuatro Babys (feat. Trap Capos, Noriel, Bryant...  ...     6.0   \n31                                   Don't Wanna Know  ...     7.0   \n32      Sin Contrato (feat. Don Omar & Wisin) [Remix]  ...     4.0   \n33                                          24K Magic  ...     1.0   \n34  CAN'T STOP THE FEELING! (from DreamWorks Anima...  ...     0.0   \n35                              Mis Planes Son Amarte  ...     0.0   \n36                                            Energía  ...    10.0   \n37                       The Martin Garrix Collection  ...     4.0   \n38                                           Tu Ritmo  ...    11.0   \n39                                   At Night, Alone.  ...     7.0   \n40                                           Des/Amor  ...     9.0   \n41  No Quiere Enamorarse (Remix) [feat. Daddy Yankee]  ...     0.0   \n42        King Of Kings 10th Anniversary (Remastered)  ...     1.0   \n43                 Sin Contrato (feat. Fifth Harmony)  ...    11.0   \n44                            Picky Back To The Roots  ...     8.0   \n45                                      ANTI (Deluxe)  ...    11.0   \n46                              Todo Comenzó Bailando  ...     2.0   \n47            The Chainsmokers- Japan Special Edition  ...    11.0   \n48                                              Fénix  ...     6.0   \n49                                       De Bailadeta  ...     7.0   \n\n    af_loudness af_mode af_speechiness  af_acousticness  af_instrumentalness  \\\n0        -2.921     0.0         0.0776          0.18700             0.000030   \n1        -4.070     0.0         0.2260          0.00431             0.000017   \n2        -3.073     0.0         0.0502          0.40000             0.000000   \n3        -4.361     1.0         0.3260          0.55100             0.000003   \n4        -4.228     0.0         0.2920          0.07600             0.000000   \n5        -4.933     1.0         0.0638          0.14200             0.000000   \n6        -7.169     0.0         0.1730          0.08510             0.000027   \n7        -5.429     1.0         0.1000          0.05590             0.000486   \n8        -2.147     1.0         0.1290          0.19800             0.000002   \n9        -6.682     1.0         0.0782          0.09980             0.000000   \n10       -1.823     1.0         0.1190          0.02440             0.000000   \n11       -0.739     0.0         0.0532          0.17100             0.000000   \n12       -5.885     0.0         0.1060          0.13200             0.000000   \n13       -4.017     1.0         0.0939          0.06730             0.000000   \n14       -3.828     0.0         0.0529          0.54700             0.000001   \n15       -3.455     1.0         0.1590          0.11700             0.000000   \n16       -3.254     0.0         0.1030          0.08580             0.000000   \n17       -5.309     1.0         0.0576          0.07840             0.000010   \n18       -4.185     1.0         0.0705          0.12600             0.000000   \n19       -3.225     0.0         0.1660          0.25600             0.000000   \n20       -4.068     0.0         0.0523          0.40600             0.000000   \n21       -5.580     0.0         0.1850          0.11500             0.000000   \n22       -3.203     0.0         0.0681          0.16700             0.000000   \n23       -5.886     1.0         0.0532          0.00784             0.004230   \n24       -3.060     0.0         0.0426          0.09300             0.000037   \n25       -5.092     0.0         0.0432          0.07360             0.000000   \n26       -1.698     0.0         0.0483          0.16600             0.000000   \n27       -4.430     1.0         0.0749          0.16200             0.000000   \n28       -7.028     1.0         0.2820          0.16500             0.000003   \n29       -3.829     1.0         0.2400          0.02130             0.000001   \n30       -6.373     0.0         0.0541          0.09830             0.000004   \n31       -6.126     1.0         0.0800          0.33800             0.000000   \n32       -4.002     0.0         0.1580          0.02640             0.000001   \n33       -4.282     1.0         0.0797          0.03400             0.000000   \n34       -5.715     1.0         0.0751          0.01230             0.000000   \n35       -5.461     1.0         0.0878          0.05750             0.000000   \n36       -2.864     1.0         0.1220          0.11700             0.000016   \n37       -6.237     0.0         0.0406          0.05920             0.000000   \n38       -6.364     1.0         0.0382          0.13500             0.000000   \n39       -6.647     0.0         0.1120          0.03530             0.000008   \n40       -6.308     1.0         0.0443          0.23400             0.000000   \n41       -3.140     1.0         0.0666          0.14400             0.000000   \n42       -4.003     1.0         0.0623          0.12500             0.000021   \n43       -6.038     0.0         0.1020          0.14400             0.000000   \n44       -4.683     1.0         0.0892          0.14700             0.000000   \n45       -6.238     1.0         0.0946          0.07520             0.000000   \n46       -5.840     1.0         0.0661          0.10400             0.000000   \n47       -5.651     1.0         0.1970          0.16000             0.004660   \n48       -6.042     0.0         0.0385          0.28200             0.000000   \n49       -5.724     1.0         0.0697          0.11700             0.000000   \n\n    af_liveness  af_valence  af_tempo  af_time_signature  \n0        0.1590      0.9070   102.034                4.0  \n1        0.1010      0.5330    99.935                4.0  \n2        0.1760      0.7100    93.974                4.0  \n3        0.1260      0.5550   180.044                4.0  \n4        0.0631      0.8730    88.007                4.0  \n5        0.2190      0.6610    91.012                4.0  \n6        0.0840      0.9370   205.643                4.0  \n7        0.4400      0.7040    96.016                4.0  \n8        0.3360      0.9530   179.935                4.0  \n9        0.0679      0.8250   175.914                4.0  \n10       0.1120      0.5210   104.029                4.0  \n11       0.0677      0.8370    95.012                4.0  \n12       0.1510      0.7850   175.950                4.0  \n13       0.3630      0.7010   101.032                4.0  \n14       0.0664      0.7450    93.050                4.0  \n15       0.3980      0.5750   180.049                4.0  \n16       0.1350      0.8690    91.030                4.0  \n17       0.1220      0.1420   199.864                4.0  \n18       0.3290      0.9050   100.054                4.0  \n19       0.2550      0.6940    96.031                4.0  \n20       0.1800      0.7420   101.965                4.0  \n21       0.3250      0.8000   190.065                4.0  \n22       0.1890      0.8130    92.033                4.0  \n23       0.3510      0.3710   103.989                4.0  \n24       0.1610      0.5360   119.986                4.0  \n25       0.1560      0.5010    92.943                4.0  \n26       0.1720      0.9020    95.036                4.0  \n27       0.0967      0.9660   100.014                4.0  \n28       0.1340      0.5350   186.054                4.0  \n29       0.1400      0.8410   180.039                4.0  \n30       0.1070      0.0957   130.099                4.0  \n31       0.0975      0.4470   100.048                4.0  \n32       0.1000      0.6610    96.053                4.0  \n33       0.1530      0.6320   106.970                4.0  \n34       0.1910      0.7020   113.030                4.0  \n35       0.1080      0.9340    95.154                4.0  \n36       0.1250      0.8000   177.908                4.0  \n37       0.3370      0.1960   133.889                4.0  \n38       0.0622      0.9720   105.979                4.0  \n39       0.0843      0.6900   101.965                4.0  \n40       0.1400      0.7970   114.679                5.0  \n41       0.6100      0.8180   164.073                4.0  \n42       0.1830      0.6190    88.997                4.0  \n43       0.1690      0.8960    96.022                4.0  \n44       0.1730      0.8060    93.222                4.0  \n45       0.0919      0.5580    91.974                4.0  \n46       0.0705      0.9110   112.094                4.0  \n47       0.1370      0.4030   159.797                4.0  \n48       0.0761      0.5890    94.013                4.0  \n49       0.2110      0.9610   106.014                4.0  \n\n[50 rows x 26 columns]",
      "text/html": "<div>\n<style scoped>\n    .dataframe tbody tr th:only-of-type {\n        vertical-align: middle;\n    }\n\n    .dataframe tbody tr th {\n        vertical-align: top;\n    }\n\n    .dataframe thead th {\n        text-align: right;\n    }\n</style>\n<table border=\"1\" class=\"dataframe\">\n  <thead>\n    <tr style=\"text-align: right;\">\n      <th></th>\n      <th>Unnamed: 0</th>\n      <th>title</th>\n      <th>rank</th>\n      <th>date</th>\n      <th>artist</th>\n      <th>region</th>\n      <th>chart</th>\n      <th>trend</th>\n      <th>streams</th>\n      <th>album</th>\n      <th>...</th>\n      <th>af_key</th>\n      <th>af_loudness</th>\n      <th>af_mode</th>\n      <th>af_speechiness</th>\n      <th>af_acousticness</th>\n      <th>af_instrumentalness</th>\n      <th>af_liveness</th>\n      <th>af_valence</th>\n      <th>af_tempo</th>\n      <th>af_time_signature</th>\n    </tr>\n  </thead>\n  <tbody>\n    <tr>\n      <th>0</th>\n      <td>0</td>\n      <td>Chantaje (feat. Maluma)</td>\n      <td>1</td>\n      <td>2017-01-01</td>\n      <td>Shakira</td>\n      <td>Argentina</td>\n      <td>top200</td>\n      <td>SAME_POSITION</td>\n      <td>253019.0</td>\n      <td>El Dorado</td>\n      <td>...</td>\n      <td>8.0</td>\n      <td>-2.921</td>\n      <td>0.0</td>\n      <td>0.0776</td>\n      <td>0.18700</td>\n      <td>0.000030</td>\n      <td>0.1590</td>\n      <td>0.9070</td>\n      <td>102.034</td>\n      <td>4.0</td>\n    </tr>\n    <tr>\n      <th>1</th>\n      <td>1</td>\n      <td>Vente Pa' Ca (feat. Maluma)</td>\n      <td>2</td>\n      <td>2017-01-01</td>\n      <td>Ricky Martin</td>\n      <td>Argentina</td>\n      <td>top200</td>\n      <td>MOVE_UP</td>\n      <td>223988.0</td>\n      <td>Vente Pa' Ca (feat. Maluma)</td>\n      <td>...</td>\n      <td>11.0</td>\n      <td>-4.070</td>\n      <td>0.0</td>\n      <td>0.2260</td>\n      <td>0.00431</td>\n      <td>0.000017</td>\n      <td>0.1010</td>\n      <td>0.5330</td>\n      <td>99.935</td>\n      <td>4.0</td>\n    </tr>\n    <tr>\n      <th>2</th>\n      <td>2</td>\n      <td>Reggaetón Lento (Bailemos)</td>\n      <td>3</td>\n      <td>2017-01-01</td>\n      <td>CNCO</td>\n      <td>Argentina</td>\n      <td>top200</td>\n      <td>MOVE_DOWN</td>\n      <td>210943.0</td>\n      <td>Primera Cita</td>\n      <td>...</td>\n      <td>4.0</td>\n      <td>-3.073</td>\n      <td>0.0</td>\n      <td>0.0502</td>\n      <td>0.40000</td>\n      <td>0.000000</td>\n      <td>0.1760</td>\n      <td>0.7100</td>\n      <td>93.974</td>\n      <td>4.0</td>\n    </tr>\n    <tr>\n      <th>3</th>\n      <td>3</td>\n      <td>Safari</td>\n      <td>4</td>\n      <td>2017-01-01</td>\n      <td>J Balvin, Pharrell Williams, BIA, Sky</td>\n      <td>Argentina</td>\n      <td>top200</td>\n      <td>SAME_POSITION</td>\n      <td>173865.0</td>\n      <td>Energía</td>\n      <td>...</td>\n      <td>0.0</td>\n      <td>-4.361</td>\n      <td>1.0</td>\n      <td>0.3260</td>\n      <td>0.55100</td>\n      <td>0.000003</td>\n      <td>0.1260</td>\n      <td>0.5550</td>\n      <td>180.044</td>\n      <td>4.0</td>\n    </tr>\n    <tr>\n      <th>4</th>\n      <td>4</td>\n      <td>Shaky Shaky</td>\n      <td>5</td>\n      <td>2017-01-01</td>\n      <td>Daddy Yankee</td>\n      <td>Argentina</td>\n      <td>top200</td>\n      <td>MOVE_UP</td>\n      <td>153956.0</td>\n      <td>Shaky Shaky</td>\n      <td>...</td>\n      <td>6.0</td>\n      <td>-4.228</td>\n      <td>0.0</td>\n      <td>0.2920</td>\n      <td>0.07600</td>\n      <td>0.000000</td>\n      <td>0.0631</td>\n      <td>0.8730</td>\n      <td>88.007</td>\n      <td>4.0</td>\n    </tr>\n    <tr>\n      <th>5</th>\n      <td>5</td>\n      <td>Traicionera</td>\n      <td>6</td>\n      <td>2017-01-01</td>\n      <td>Sebastian Yatra</td>\n      <td>Argentina</td>\n      <td>top200</td>\n      <td>MOVE_DOWN</td>\n      <td>151140.0</td>\n      <td>Traicionera</td>\n      <td>...</td>\n      <td>11.0</td>\n      <td>-4.933</td>\n      <td>1.0</td>\n      <td>0.0638</td>\n      <td>0.14200</td>\n      <td>0.000000</td>\n      <td>0.2190</td>\n      <td>0.6610</td>\n      <td>91.012</td>\n      <td>4.0</td>\n    </tr>\n    <tr>\n      <th>6</th>\n      <td>6</td>\n      <td>Cuando Se Pone a Bailar</td>\n      <td>7</td>\n      <td>2017-01-01</td>\n      <td>Rombai</td>\n      <td>Argentina</td>\n      <td>top200</td>\n      <td>MOVE_DOWN</td>\n      <td>148369.0</td>\n      <td>Cuando Se Pone a Bailar</td>\n      <td>...</td>\n      <td>11.0</td>\n      <td>-7.169</td>\n      <td>0.0</td>\n      <td>0.1730</td>\n      <td>0.08510</td>\n      <td>0.000027</td>\n      <td>0.0840</td>\n      <td>0.9370</td>\n      <td>205.643</td>\n      <td>4.0</td>\n    </tr>\n    <tr>\n      <th>7</th>\n      <td>7</td>\n      <td>Otra vez (feat. J Balvin)</td>\n      <td>8</td>\n      <td>2017-01-01</td>\n      <td>Zion &amp; Lennox</td>\n      <td>Argentina</td>\n      <td>top200</td>\n      <td>MOVE_DOWN</td>\n      <td>143004.0</td>\n      <td>Motivan2</td>\n      <td>...</td>\n      <td>10.0</td>\n      <td>-5.429</td>\n      <td>1.0</td>\n      <td>0.1000</td>\n      <td>0.05590</td>\n      <td>0.000486</td>\n      <td>0.4400</td>\n      <td>0.7040</td>\n      <td>96.016</td>\n      <td>4.0</td>\n    </tr>\n    <tr>\n      <th>8</th>\n      <td>8</td>\n      <td>La Bicicleta</td>\n      <td>9</td>\n      <td>2017-01-01</td>\n      <td>Carlos Vives, Shakira</td>\n      <td>Argentina</td>\n      <td>top200</td>\n      <td>MOVE_UP</td>\n      <td>126389.0</td>\n      <td>El Dorado</td>\n      <td>...</td>\n      <td>0.0</td>\n      <td>-2.147</td>\n      <td>1.0</td>\n      <td>0.1290</td>\n      <td>0.19800</td>\n      <td>0.000002</td>\n      <td>0.3360</td>\n      <td>0.9530</td>\n      <td>179.935</td>\n      <td>4.0</td>\n    </tr>\n    <tr>\n      <th>9</th>\n      <td>9</td>\n      <td>Dile Que Tu Me Quieres</td>\n      <td>10</td>\n      <td>2017-01-01</td>\n      <td>Ozuna</td>\n      <td>Argentina</td>\n      <td>top200</td>\n      <td>MOVE_DOWN</td>\n      <td>112012.0</td>\n      <td>Dile Que Tu Me Quieres</td>\n      <td>...</td>\n      <td>1.0</td>\n      <td>-6.682</td>\n      <td>1.0</td>\n      <td>0.0782</td>\n      <td>0.09980</td>\n      <td>0.000000</td>\n      <td>0.0679</td>\n      <td>0.8250</td>\n      <td>175.914</td>\n      <td>4.0</td>\n    </tr>\n    <tr>\n      <th>10</th>\n      <td>10</td>\n      <td>Andas En Mi Cabeza</td>\n      <td>11</td>\n      <td>2017-01-01</td>\n      <td>Chino &amp; Nacho, Daddy Yankee</td>\n      <td>Argentina</td>\n      <td>top200</td>\n      <td>SAME_POSITION</td>\n      <td>110395.0</td>\n      <td>Andas En Mi Cabeza</td>\n      <td>...</td>\n      <td>9.0</td>\n      <td>-1.823</td>\n      <td>1.0</td>\n      <td>0.1190</td>\n      <td>0.02440</td>\n      <td>0.000000</td>\n      <td>0.1120</td>\n      <td>0.5210</td>\n      <td>104.029</td>\n      <td>4.0</td>\n    </tr>\n    <tr>\n      <th>11</th>\n      <td>11</td>\n      <td>Desde Esa Noche (feat. Maluma)</td>\n      <td>12</td>\n      <td>2017-01-01</td>\n      <td>Thalia</td>\n      <td>Argentina</td>\n      <td>top200</td>\n      <td>MOVE_UP</td>\n      <td>104592.0</td>\n      <td>Latina</td>\n      <td>...</td>\n      <td>11.0</td>\n      <td>-0.739</td>\n      <td>0.0</td>\n      <td>0.0532</td>\n      <td>0.17100</td>\n      <td>0.000000</td>\n      <td>0.0677</td>\n      <td>0.8370</td>\n      <td>95.012</td>\n      <td>4.0</td>\n    </tr>\n    <tr>\n      <th>12</th>\n      <td>12</td>\n      <td>Borro Cassette</td>\n      <td>13</td>\n      <td>2017-01-01</td>\n      <td>Maluma</td>\n      <td>Argentina</td>\n      <td>top200</td>\n      <td>MOVE_UP</td>\n      <td>101535.0</td>\n      <td>Pretty Boy, Dirty Boy</td>\n      <td>...</td>\n      <td>5.0</td>\n      <td>-5.885</td>\n      <td>0.0</td>\n      <td>0.1060</td>\n      <td>0.13200</td>\n      <td>0.000000</td>\n      <td>0.1510</td>\n      <td>0.7850</td>\n      <td>175.950</td>\n      <td>4.0</td>\n    </tr>\n    <tr>\n      <th>13</th>\n      <td>13</td>\n      <td>Gyal You A Party Animal - Remix</td>\n      <td>14</td>\n      <td>2017-01-01</td>\n      <td>Charly Black, Daddy Yankee</td>\n      <td>Argentina</td>\n      <td>top200</td>\n      <td>MOVE_DOWN</td>\n      <td>99722.0</td>\n      <td>Gyal You A Party Animal (Remix)</td>\n      <td>...</td>\n      <td>0.0</td>\n      <td>-4.017</td>\n      <td>1.0</td>\n      <td>0.0939</td>\n      <td>0.06730</td>\n      <td>0.000000</td>\n      <td>0.3630</td>\n      <td>0.7010</td>\n      <td>101.032</td>\n      <td>4.0</td>\n    </tr>\n    <tr>\n      <th>14</th>\n      <td>14</td>\n      <td>Me llamas (feat. Maluma) - Remix</td>\n      <td>15</td>\n      <td>2017-01-01</td>\n      <td>Piso 21</td>\n      <td>Argentina</td>\n      <td>top200</td>\n      <td>MOVE_DOWN</td>\n      <td>95010.0</td>\n      <td>Me Llamas (feat. Maluma) [Remix]</td>\n      <td>...</td>\n      <td>7.0</td>\n      <td>-3.828</td>\n      <td>0.0</td>\n      <td>0.0529</td>\n      <td>0.54700</td>\n      <td>0.000001</td>\n      <td>0.0664</td>\n      <td>0.7450</td>\n      <td>93.050</td>\n      <td>4.0</td>\n    </tr>\n    <tr>\n      <th>15</th>\n      <td>15</td>\n      <td>La Bicicleta (feat. Maluma) - Remix</td>\n      <td>16</td>\n      <td>2017-01-01</td>\n      <td>Carlos Vives, Shakira</td>\n      <td>Argentina</td>\n      <td>top200</td>\n      <td>MOVE_UP</td>\n      <td>92723.0</td>\n      <td>La Bicicleta (feat. Maluma) [Remix]</td>\n      <td>...</td>\n      <td>0.0</td>\n      <td>-3.455</td>\n      <td>1.0</td>\n      <td>0.1590</td>\n      <td>0.11700</td>\n      <td>0.000000</td>\n      <td>0.3980</td>\n      <td>0.5750</td>\n      <td>180.049</td>\n      <td>4.0</td>\n    </tr>\n    <tr>\n      <th>16</th>\n      <td>16</td>\n      <td>DUELE EL CORAZON (feat. Wisin)</td>\n      <td>17</td>\n      <td>2017-01-01</td>\n      <td>Enrique Iglesias</td>\n      <td>Argentina</td>\n      <td>top200</td>\n      <td>MOVE_UP</td>\n      <td>91325.0</td>\n      <td>DUELE EL CORAZON (feat. Wisin)</td>\n      <td>...</td>\n      <td>8.0</td>\n      <td>-3.254</td>\n      <td>0.0</td>\n      <td>0.1030</td>\n      <td>0.08580</td>\n      <td>0.000000</td>\n      <td>0.1350</td>\n      <td>0.8690</td>\n      <td>91.030</td>\n      <td>4.0</td>\n    </tr>\n    <tr>\n      <th>17</th>\n      <td>17</td>\n      <td>Let Me Love You</td>\n      <td>18</td>\n      <td>2017-01-01</td>\n      <td>DJ Snake, Justin Bieber</td>\n      <td>Argentina</td>\n      <td>top200</td>\n      <td>MOVE_DOWN</td>\n      <td>87926.0</td>\n      <td>Encore</td>\n      <td>...</td>\n      <td>8.0</td>\n      <td>-5.309</td>\n      <td>1.0</td>\n      <td>0.0576</td>\n      <td>0.07840</td>\n      <td>0.000010</td>\n      <td>0.1220</td>\n      <td>0.1420</td>\n      <td>199.864</td>\n      <td>4.0</td>\n    </tr>\n    <tr>\n      <th>18</th>\n      <td>18</td>\n      <td>La Noche No Es para Dormir</td>\n      <td>19</td>\n      <td>2017-01-01</td>\n      <td>Mano Arriba</td>\n      <td>Argentina</td>\n      <td>top200</td>\n      <td>SAME_POSITION</td>\n      <td>87033.0</td>\n      <td>La Noche No Es para Dormir - Single</td>\n      <td>...</td>\n      <td>6.0</td>\n      <td>-4.185</td>\n      <td>1.0</td>\n      <td>0.0705</td>\n      <td>0.12600</td>\n      <td>0.000000</td>\n      <td>0.3290</td>\n      <td>0.9050</td>\n      <td>100.054</td>\n      <td>4.0</td>\n    </tr>\n    <tr>\n      <th>19</th>\n      <td>19</td>\n      <td>Vacaciones</td>\n      <td>20</td>\n      <td>2017-01-01</td>\n      <td>Wisin</td>\n      <td>Argentina</td>\n      <td>top200</td>\n      <td>MOVE_DOWN</td>\n      <td>86103.0</td>\n      <td>Vacaciones</td>\n      <td>...</td>\n      <td>6.0</td>\n      <td>-3.225</td>\n      <td>0.0</td>\n      <td>0.1660</td>\n      <td>0.25600</td>\n      <td>0.000000</td>\n      <td>0.2550</td>\n      <td>0.6940</td>\n      <td>96.031</td>\n      <td>4.0</td>\n    </tr>\n    <tr>\n      <th>20</th>\n      <td>20</td>\n      <td>Rockabye (feat. Sean Paul &amp; Anne-Marie)</td>\n      <td>21</td>\n      <td>2017-01-01</td>\n      <td>Clean Bandit</td>\n      <td>Argentina</td>\n      <td>top200</td>\n      <td>SAME_POSITION</td>\n      <td>76123.0</td>\n      <td>Rockabye (feat. Sean Paul &amp; Anne-Marie)</td>\n      <td>...</td>\n      <td>9.0</td>\n      <td>-4.068</td>\n      <td>0.0</td>\n      <td>0.0523</td>\n      <td>0.40600</td>\n      <td>0.000000</td>\n      <td>0.1800</td>\n      <td>0.7420</td>\n      <td>101.965</td>\n      <td>4.0</td>\n    </tr>\n    <tr>\n      <th>21</th>\n      <td>21</td>\n      <td>Carnavalintro</td>\n      <td>22</td>\n      <td>2017-01-01</td>\n      <td>Chano</td>\n      <td>Argentina</td>\n      <td>top200</td>\n      <td>MOVE_UP</td>\n      <td>71963.0</td>\n      <td>Carnavalintro</td>\n      <td>...</td>\n      <td>6.0</td>\n      <td>-5.580</td>\n      <td>0.0</td>\n      <td>0.1850</td>\n      <td>0.11500</td>\n      <td>0.000000</td>\n      <td>0.3250</td>\n      <td>0.8000</td>\n      <td>190.065</td>\n      <td>4.0</td>\n    </tr>\n    <tr>\n      <th>22</th>\n      <td>22</td>\n      <td>Ay Mi Dios (feat. Pitbull, Yandel &amp; Chacal)</td>\n      <td>23</td>\n      <td>2017-01-01</td>\n      <td>IAmChino, El Chacal</td>\n      <td>Argentina</td>\n      <td>top200</td>\n      <td>MOVE_UP</td>\n      <td>71892.0</td>\n      <td>Ay Mi Dios (feat. Pitbull, Yandel &amp; Chacal)</td>\n      <td>...</td>\n      <td>0.0</td>\n      <td>-3.203</td>\n      <td>0.0</td>\n      <td>0.0681</td>\n      <td>0.16700</td>\n      <td>0.000000</td>\n      <td>0.1890</td>\n      <td>0.8130</td>\n      <td>92.033</td>\n      <td>4.0</td>\n    </tr>\n    <tr>\n      <th>23</th>\n      <td>23</td>\n      <td>One Dance</td>\n      <td>24</td>\n      <td>2017-01-01</td>\n      <td>Drake, WizKid, Kyla</td>\n      <td>Argentina</td>\n      <td>top200</td>\n      <td>MOVE_UP</td>\n      <td>71498.0</td>\n      <td>Views</td>\n      <td>...</td>\n      <td>1.0</td>\n      <td>-5.886</td>\n      <td>1.0</td>\n      <td>0.0532</td>\n      <td>0.00784</td>\n      <td>0.004230</td>\n      <td>0.3510</td>\n      <td>0.3710</td>\n      <td>103.989</td>\n      <td>4.0</td>\n    </tr>\n    <tr>\n      <th>24</th>\n      <td>24</td>\n      <td>My Way</td>\n      <td>25</td>\n      <td>2017-01-01</td>\n      <td>Calvin Harris</td>\n      <td>Argentina</td>\n      <td>top200</td>\n      <td>SAME_POSITION</td>\n      <td>70795.0</td>\n      <td>My Way</td>\n      <td>...</td>\n      <td>4.0</td>\n      <td>-3.060</td>\n      <td>0.0</td>\n      <td>0.0426</td>\n      <td>0.09300</td>\n      <td>0.000037</td>\n      <td>0.1610</td>\n      <td>0.5360</td>\n      <td>119.986</td>\n      <td>4.0</td>\n    </tr>\n    <tr>\n      <th>25</th>\n      <td>25</td>\n      <td>Cold Water (feat. Justin Bieber &amp; MØ)</td>\n      <td>26</td>\n      <td>2017-01-01</td>\n      <td>Major Lazer</td>\n      <td>Argentina</td>\n      <td>top200</td>\n      <td>SAME_POSITION</td>\n      <td>70260.0</td>\n      <td>Cold Water (feat. Justin Bieber &amp; MØ)</td>\n      <td>...</td>\n      <td>6.0</td>\n      <td>-5.092</td>\n      <td>0.0</td>\n      <td>0.0432</td>\n      <td>0.07360</td>\n      <td>0.000000</td>\n      <td>0.1560</td>\n      <td>0.5010</td>\n      <td>92.943</td>\n      <td>4.0</td>\n    </tr>\n    <tr>\n      <th>26</th>\n      <td>26</td>\n      <td>La Gozadera (feat. Marc Anthony)</td>\n      <td>27</td>\n      <td>2017-01-01</td>\n      <td>Gente De Zona</td>\n      <td>Argentina</td>\n      <td>top200</td>\n      <td>MOVE_UP</td>\n      <td>70028.0</td>\n      <td>Visualízate</td>\n      <td>...</td>\n      <td>9.0</td>\n      <td>-1.698</td>\n      <td>0.0</td>\n      <td>0.0483</td>\n      <td>0.16600</td>\n      <td>0.000000</td>\n      <td>0.1720</td>\n      <td>0.9020</td>\n      <td>95.036</td>\n      <td>4.0</td>\n    </tr>\n    <tr>\n      <th>27</th>\n      <td>27</td>\n      <td>Llamame Mas Temprano</td>\n      <td>28</td>\n      <td>2017-01-01</td>\n      <td>Mano Arriba</td>\n      <td>Argentina</td>\n      <td>top200</td>\n      <td>MOVE_UP</td>\n      <td>69382.0</td>\n      <td>Llamame Mas Temprano / Hicimos un Pacto - Single</td>\n      <td>...</td>\n      <td>10.0</td>\n      <td>-4.430</td>\n      <td>1.0</td>\n      <td>0.0749</td>\n      <td>0.16200</td>\n      <td>0.000000</td>\n      <td>0.0967</td>\n      <td>0.9660</td>\n      <td>100.014</td>\n      <td>4.0</td>\n    </tr>\n    <tr>\n      <th>28</th>\n      <td>28</td>\n      <td>Starboy</td>\n      <td>29</td>\n      <td>2017-01-01</td>\n      <td>The Weeknd, Daft Punk</td>\n      <td>Argentina</td>\n      <td>top200</td>\n      <td>SAME_POSITION</td>\n      <td>65518.0</td>\n      <td>Starboy</td>\n      <td>...</td>\n      <td>7.0</td>\n      <td>-7.028</td>\n      <td>1.0</td>\n      <td>0.2820</td>\n      <td>0.16500</td>\n      <td>0.000003</td>\n      <td>0.1340</td>\n      <td>0.5350</td>\n      <td>186.054</td>\n      <td>4.0</td>\n    </tr>\n    <tr>\n      <th>29</th>\n      <td>29</td>\n      <td>Manicomio</td>\n      <td>30</td>\n      <td>2017-01-01</td>\n      <td>Cosculluela</td>\n      <td>Argentina</td>\n      <td>top200</td>\n      <td>MOVE_DOWN</td>\n      <td>64998.0</td>\n      <td>Blanco Perla</td>\n      <td>...</td>\n      <td>8.0</td>\n      <td>-3.829</td>\n      <td>1.0</td>\n      <td>0.2400</td>\n      <td>0.02130</td>\n      <td>0.000001</td>\n      <td>0.1400</td>\n      <td>0.8410</td>\n      <td>180.039</td>\n      <td>4.0</td>\n    </tr>\n    <tr>\n      <th>30</th>\n      <td>30</td>\n      <td>Cuatro Babys (feat. Trap Capos, Noriel, Bryant...</td>\n      <td>31</td>\n      <td>2017-01-01</td>\n      <td>Maluma</td>\n      <td>Argentina</td>\n      <td>top200</td>\n      <td>MOVE_DOWN</td>\n      <td>64907.0</td>\n      <td>Cuatro Babys (feat. Trap Capos, Noriel, Bryant...</td>\n      <td>...</td>\n      <td>6.0</td>\n      <td>-6.373</td>\n      <td>0.0</td>\n      <td>0.0541</td>\n      <td>0.09830</td>\n      <td>0.000004</td>\n      <td>0.1070</td>\n      <td>0.0957</td>\n      <td>130.099</td>\n      <td>4.0</td>\n    </tr>\n    <tr>\n      <th>31</th>\n      <td>31</td>\n      <td>Don't Wanna Know</td>\n      <td>32</td>\n      <td>2017-01-01</td>\n      <td>Maroon 5, Kendrick Lamar</td>\n      <td>Argentina</td>\n      <td>top200</td>\n      <td>MOVE_DOWN</td>\n      <td>61714.0</td>\n      <td>Don't Wanna Know</td>\n      <td>...</td>\n      <td>7.0</td>\n      <td>-6.126</td>\n      <td>1.0</td>\n      <td>0.0800</td>\n      <td>0.33800</td>\n      <td>0.000000</td>\n      <td>0.0975</td>\n      <td>0.4470</td>\n      <td>100.048</td>\n      <td>4.0</td>\n    </tr>\n    <tr>\n      <th>32</th>\n      <td>32</td>\n      <td>Sin Contrato (feat. Don Omar &amp; Wisin) - Remix</td>\n      <td>33</td>\n      <td>2017-01-01</td>\n      <td>Maluma</td>\n      <td>Argentina</td>\n      <td>top200</td>\n      <td>MOVE_UP</td>\n      <td>59903.0</td>\n      <td>Sin Contrato (feat. Don Omar &amp; Wisin) [Remix]</td>\n      <td>...</td>\n      <td>4.0</td>\n      <td>-4.002</td>\n      <td>0.0</td>\n      <td>0.1580</td>\n      <td>0.02640</td>\n      <td>0.000001</td>\n      <td>0.1000</td>\n      <td>0.6610</td>\n      <td>96.053</td>\n      <td>4.0</td>\n    </tr>\n    <tr>\n      <th>33</th>\n      <td>33</td>\n      <td>24K Magic</td>\n      <td>34</td>\n      <td>2017-01-01</td>\n      <td>Bruno Mars</td>\n      <td>Argentina</td>\n      <td>top200</td>\n      <td>MOVE_DOWN</td>\n      <td>58801.0</td>\n      <td>24K Magic</td>\n      <td>...</td>\n      <td>1.0</td>\n      <td>-4.282</td>\n      <td>1.0</td>\n      <td>0.0797</td>\n      <td>0.03400</td>\n      <td>0.000000</td>\n      <td>0.1530</td>\n      <td>0.6320</td>\n      <td>106.970</td>\n      <td>4.0</td>\n    </tr>\n    <tr>\n      <th>34</th>\n      <td>34</td>\n      <td>CAN'T STOP THE FEELING! (Original Song from Dr...</td>\n      <td>35</td>\n      <td>2017-01-01</td>\n      <td>Justin Timberlake</td>\n      <td>Argentina</td>\n      <td>top200</td>\n      <td>MOVE_UP</td>\n      <td>56170.0</td>\n      <td>CAN'T STOP THE FEELING! (from DreamWorks Anima...</td>\n      <td>...</td>\n      <td>0.0</td>\n      <td>-5.715</td>\n      <td>1.0</td>\n      <td>0.0751</td>\n      <td>0.01230</td>\n      <td>0.000000</td>\n      <td>0.1910</td>\n      <td>0.7020</td>\n      <td>113.030</td>\n      <td>4.0</td>\n    </tr>\n    <tr>\n      <th>35</th>\n      <td>35</td>\n      <td>Fuego</td>\n      <td>36</td>\n      <td>2017-01-01</td>\n      <td>Juanes</td>\n      <td>Argentina</td>\n      <td>top200</td>\n      <td>MOVE_UP</td>\n      <td>55902.0</td>\n      <td>Mis Planes Son Amarte</td>\n      <td>...</td>\n      <td>0.0</td>\n      <td>-5.461</td>\n      <td>1.0</td>\n      <td>0.0878</td>\n      <td>0.05750</td>\n      <td>0.000000</td>\n      <td>0.1080</td>\n      <td>0.9340</td>\n      <td>95.154</td>\n      <td>4.0</td>\n    </tr>\n    <tr>\n      <th>36</th>\n      <td>36</td>\n      <td>Bobo</td>\n      <td>37</td>\n      <td>2017-01-01</td>\n      <td>J Balvin</td>\n      <td>Argentina</td>\n      <td>top200</td>\n      <td>MOVE_UP</td>\n      <td>55360.0</td>\n      <td>Energía</td>\n      <td>...</td>\n      <td>10.0</td>\n      <td>-2.864</td>\n      <td>1.0</td>\n      <td>0.1220</td>\n      <td>0.11700</td>\n      <td>0.000016</td>\n      <td>0.1250</td>\n      <td>0.8000</td>\n      <td>177.908</td>\n      <td>4.0</td>\n    </tr>\n    <tr>\n      <th>37</th>\n      <td>37</td>\n      <td>In the Name of Love</td>\n      <td>38</td>\n      <td>2017-01-01</td>\n      <td>Martin Garrix, Bebe Rexha</td>\n      <td>Argentina</td>\n      <td>top200</td>\n      <td>MOVE_DOWN</td>\n      <td>54980.0</td>\n      <td>The Martin Garrix Collection</td>\n      <td>...</td>\n      <td>4.0</td>\n      <td>-6.237</td>\n      <td>0.0</td>\n      <td>0.0406</td>\n      <td>0.05920</td>\n      <td>0.000000</td>\n      <td>0.3370</td>\n      <td>0.1960</td>\n      <td>133.889</td>\n      <td>4.0</td>\n    </tr>\n    <tr>\n      <th>38</th>\n      <td>38</td>\n      <td>Tu Ritmo</td>\n      <td>39</td>\n      <td>2017-01-01</td>\n      <td>Los Bonnitos</td>\n      <td>Argentina</td>\n      <td>top200</td>\n      <td>MOVE_UP</td>\n      <td>54081.0</td>\n      <td>Tu Ritmo</td>\n      <td>...</td>\n      <td>11.0</td>\n      <td>-6.364</td>\n      <td>1.0</td>\n      <td>0.0382</td>\n      <td>0.13500</td>\n      <td>0.000000</td>\n      <td>0.0622</td>\n      <td>0.9720</td>\n      <td>105.979</td>\n      <td>4.0</td>\n    </tr>\n    <tr>\n      <th>39</th>\n      <td>39</td>\n      <td>I Took A Pill In Ibiza - Seeb Remix</td>\n      <td>40</td>\n      <td>2017-01-01</td>\n      <td>Mike Posner</td>\n      <td>Argentina</td>\n      <td>top200</td>\n      <td>MOVE_DOWN</td>\n      <td>53270.0</td>\n      <td>At Night, Alone.</td>\n      <td>...</td>\n      <td>7.0</td>\n      <td>-6.647</td>\n      <td>0.0</td>\n      <td>0.1120</td>\n      <td>0.03530</td>\n      <td>0.000008</td>\n      <td>0.0843</td>\n      <td>0.6900</td>\n      <td>101.965</td>\n      <td>4.0</td>\n    </tr>\n    <tr>\n      <th>40</th>\n      <td>40</td>\n      <td>Ya Me Enteré (feat. Nicky Jam) - Urban Version</td>\n      <td>41</td>\n      <td>2017-01-01</td>\n      <td>Reik</td>\n      <td>Argentina</td>\n      <td>top200</td>\n      <td>MOVE_DOWN</td>\n      <td>52907.0</td>\n      <td>Des/Amor</td>\n      <td>...</td>\n      <td>9.0</td>\n      <td>-6.308</td>\n      <td>1.0</td>\n      <td>0.0443</td>\n      <td>0.23400</td>\n      <td>0.000000</td>\n      <td>0.1400</td>\n      <td>0.7970</td>\n      <td>114.679</td>\n      <td>5.0</td>\n    </tr>\n    <tr>\n      <th>41</th>\n      <td>41</td>\n      <td>No Quiere Enamorarse (Remix) [feat. Daddy Yankee]</td>\n      <td>42</td>\n      <td>2017-01-01</td>\n      <td>Ozuna</td>\n      <td>Argentina</td>\n      <td>top200</td>\n      <td>MOVE_DOWN</td>\n      <td>52670.0</td>\n      <td>No Quiere Enamorarse (Remix) [feat. Daddy Yankee]</td>\n      <td>...</td>\n      <td>0.0</td>\n      <td>-3.140</td>\n      <td>1.0</td>\n      <td>0.0666</td>\n      <td>0.14400</td>\n      <td>0.000000</td>\n      <td>0.6100</td>\n      <td>0.8180</td>\n      <td>164.073</td>\n      <td>4.0</td>\n    </tr>\n    <tr>\n      <th>42</th>\n      <td>42</td>\n      <td>Te Quiero Pa´Mi</td>\n      <td>43</td>\n      <td>2017-01-01</td>\n      <td>Don Omar, Zion &amp; Lennox</td>\n      <td>Argentina</td>\n      <td>top200</td>\n      <td>MOVE_DOWN</td>\n      <td>51352.0</td>\n      <td>King Of Kings 10th Anniversary (Remastered)</td>\n      <td>...</td>\n      <td>1.0</td>\n      <td>-4.003</td>\n      <td>1.0</td>\n      <td>0.0623</td>\n      <td>0.12500</td>\n      <td>0.000021</td>\n      <td>0.1830</td>\n      <td>0.6190</td>\n      <td>88.997</td>\n      <td>4.0</td>\n    </tr>\n    <tr>\n      <th>43</th>\n      <td>43</td>\n      <td>Sin Contrato (feat. Fifth Harmony)</td>\n      <td>44</td>\n      <td>2017-01-01</td>\n      <td>Maluma</td>\n      <td>Argentina</td>\n      <td>top200</td>\n      <td>MOVE_UP</td>\n      <td>51115.0</td>\n      <td>Sin Contrato (feat. Fifth Harmony)</td>\n      <td>...</td>\n      <td>11.0</td>\n      <td>-6.038</td>\n      <td>0.0</td>\n      <td>0.1020</td>\n      <td>0.14400</td>\n      <td>0.000000</td>\n      <td>0.1690</td>\n      <td>0.8960</td>\n      <td>96.022</td>\n      <td>4.0</td>\n    </tr>\n    <tr>\n      <th>44</th>\n      <td>44</td>\n      <td>Picky</td>\n      <td>45</td>\n      <td>2017-01-01</td>\n      <td>Joey Montana</td>\n      <td>Argentina</td>\n      <td>top200</td>\n      <td>MOVE_UP</td>\n      <td>51113.0</td>\n      <td>Picky Back To The Roots</td>\n      <td>...</td>\n      <td>8.0</td>\n      <td>-4.683</td>\n      <td>1.0</td>\n      <td>0.0892</td>\n      <td>0.14700</td>\n      <td>0.000000</td>\n      <td>0.1730</td>\n      <td>0.8060</td>\n      <td>93.222</td>\n      <td>4.0</td>\n    </tr>\n    <tr>\n      <th>45</th>\n      <td>45</td>\n      <td>Work</td>\n      <td>46</td>\n      <td>2017-01-01</td>\n      <td>Rihanna, Drake</td>\n      <td>Argentina</td>\n      <td>top200</td>\n      <td>MOVE_DOWN</td>\n      <td>50655.0</td>\n      <td>ANTI (Deluxe)</td>\n      <td>...</td>\n      <td>11.0</td>\n      <td>-6.238</td>\n      <td>1.0</td>\n      <td>0.0946</td>\n      <td>0.07520</td>\n      <td>0.000000</td>\n      <td>0.0919</td>\n      <td>0.5580</td>\n      <td>91.974</td>\n      <td>4.0</td>\n    </tr>\n    <tr>\n      <th>46</th>\n      <td>46</td>\n      <td>Noche Loca</td>\n      <td>47</td>\n      <td>2017-01-01</td>\n      <td>Marama, Rombai</td>\n      <td>Argentina</td>\n      <td>top200</td>\n      <td>MOVE_UP</td>\n      <td>49100.0</td>\n      <td>Todo Comenzó Bailando</td>\n      <td>...</td>\n      <td>2.0</td>\n      <td>-5.840</td>\n      <td>1.0</td>\n      <td>0.0661</td>\n      <td>0.10400</td>\n      <td>0.000000</td>\n      <td>0.0705</td>\n      <td>0.9110</td>\n      <td>112.094</td>\n      <td>4.0</td>\n    </tr>\n    <tr>\n      <th>47</th>\n      <td>47</td>\n      <td>Don't Let Me Down (feat. Daya)</td>\n      <td>48</td>\n      <td>2017-01-01</td>\n      <td>The Chainsmokers</td>\n      <td>Argentina</td>\n      <td>top200</td>\n      <td>MOVE_DOWN</td>\n      <td>48767.0</td>\n      <td>The Chainsmokers- Japan Special Edition</td>\n      <td>...</td>\n      <td>11.0</td>\n      <td>-5.651</td>\n      <td>1.0</td>\n      <td>0.1970</td>\n      <td>0.16000</td>\n      <td>0.004660</td>\n      <td>0.1370</td>\n      <td>0.4030</td>\n      <td>159.797</td>\n      <td>4.0</td>\n    </tr>\n    <tr>\n      <th>48</th>\n      <td>48</td>\n      <td>Hasta el Amanecer</td>\n      <td>49</td>\n      <td>2017-01-01</td>\n      <td>Nicky Jam</td>\n      <td>Argentina</td>\n      <td>top200</td>\n      <td>MOVE_UP</td>\n      <td>47672.0</td>\n      <td>Fénix</td>\n      <td>...</td>\n      <td>6.0</td>\n      <td>-6.042</td>\n      <td>0.0</td>\n      <td>0.0385</td>\n      <td>0.28200</td>\n      <td>0.000000</td>\n      <td>0.0761</td>\n      <td>0.5890</td>\n      <td>94.013</td>\n      <td>4.0</td>\n    </tr>\n    <tr>\n      <th>49</th>\n      <td>49</td>\n      <td>Le Hace Falta un Beso</td>\n      <td>50</td>\n      <td>2017-01-01</td>\n      <td>Agapornis</td>\n      <td>Argentina</td>\n      <td>top200</td>\n      <td>MOVE_UP</td>\n      <td>45251.0</td>\n      <td>De Bailadeta</td>\n      <td>...</td>\n      <td>7.0</td>\n      <td>-5.724</td>\n      <td>1.0</td>\n      <td>0.0697</td>\n      <td>0.11700</td>\n      <td>0.000000</td>\n      <td>0.2110</td>\n      <td>0.9610</td>\n      <td>106.014</td>\n      <td>4.0</td>\n    </tr>\n  </tbody>\n</table>\n<p>50 rows × 26 columns</p>\n</div>"
     },
     "execution_count": 16,
     "metadata": {},
     "output_type": "execute_result"
    }
   ],
   "source": [
    "partition_1.head(50)"
   ],
   "metadata": {
    "collapsed": false,
    "ExecuteTime": {
     "end_time": "2024-07-10T14:32:44.985710700Z",
     "start_time": "2024-07-10T14:32:44.963278600Z"
    }
   },
   "id": "9cbb45dcb37bd5b2"
  },
  {
   "cell_type": "code",
   "execution_count": 18,
   "outputs": [
    {
     "data": {
      "text/plain": "67"
     },
     "execution_count": 18,
     "metadata": {},
     "output_type": "execute_result"
    }
   ],
   "source": [
    "unique_regions_count = partition_1['region'].nunique()\n",
    "unique_regions_count"
   ],
   "metadata": {
    "collapsed": false,
    "ExecuteTime": {
     "end_time": "2024-07-10T14:35:12.426076Z",
     "start_time": "2024-07-10T14:35:12.351605900Z"
    }
   },
   "id": "e4aedb2c91ba1daf"
  },
  {
   "cell_type": "code",
   "execution_count": 19,
   "outputs": [
    {
     "name": "stdout",
     "output_type": "stream",
     "text": [
      "Date range: 2017-01-01 00:00:00 to 2021-10-15 00:00:00\n"
     ]
    }
   ],
   "source": [
    "partition_1['date'] = pd.to_datetime(partition_1['date'])\n",
    "\n",
    "# Find the earliest and latest dates\n",
    "start_date = partition_1['date'].min()\n",
    "end_date = partition_1['date'].max()\n",
    "\n",
    "print(f\"Date range: {start_date} to {end_date}\")"
   ],
   "metadata": {
    "collapsed": false,
    "ExecuteTime": {
     "end_time": "2024-07-10T14:38:02.759672300Z",
     "start_time": "2024-07-10T14:38:02.281839200Z"
    }
   },
   "id": "37c12100bb059c40"
  },
  {
   "cell_type": "code",
   "execution_count": 22,
   "outputs": [
    {
     "data": {
      "text/plain": "      Unnamed: 0                                title  rank       date  \\\n8246        8246  Bad and Boujee (feat. Lil Uzi Vert)     1 2017-01-01   \n8247        8247                            Fake Love     2 2017-01-01   \n8248        8248                              Starboy     3 2017-01-01   \n8249        8249                               Closer     4 2017-01-01   \n8250        8250                        Black Beatles     5 2017-01-01   \n\n                        artist         region   chart          trend  \\\n8246                     Migos  United States  top200  SAME_POSITION   \n8247                     Drake  United States  top200  SAME_POSITION   \n8248     The Weeknd, Daft Punk  United States  top200  SAME_POSITION   \n8249  The Chainsmokers, Halsey  United States  top200  SAME_POSITION   \n8250  Rae Sremmurd, Gucci Mane  United States  top200  SAME_POSITION   \n\n        streams                 album  ...  af_key  af_loudness af_mode  \\\n8246  1371493.0               Culture  ...    11.0       -5.314     1.0   \n8247  1180074.0             More Life  ...     9.0       -9.350     0.0   \n8248  1064351.0               Starboy  ...     7.0       -7.028     1.0   \n8249  1010492.0                Closer  ...     8.0       -5.599     1.0   \n8250   874289.0  SremmLife 2 (Deluxe)  ...     0.0       -6.163     1.0   \n\n     af_speechiness  af_acousticness  af_instrumentalness  af_liveness  \\\n8246         0.2440           0.0611             0.000000        0.123   \n8247         0.2870           0.1050             0.000000        0.176   \n8248         0.2820           0.1650             0.000003        0.134   \n8249         0.0338           0.4140             0.000000        0.111   \n8250         0.0649           0.1420             0.000000        0.128   \n\n      af_valence  af_tempo  af_time_signature  \n8246       0.168   127.079                4.0  \n8247       0.613   134.007                4.0  \n8248       0.535   186.054                4.0  \n8249       0.661    95.010                4.0  \n8250       0.355   145.926                4.0  \n\n[5 rows x 26 columns]",
      "text/html": "<div>\n<style scoped>\n    .dataframe tbody tr th:only-of-type {\n        vertical-align: middle;\n    }\n\n    .dataframe tbody tr th {\n        vertical-align: top;\n    }\n\n    .dataframe thead th {\n        text-align: right;\n    }\n</style>\n<table border=\"1\" class=\"dataframe\">\n  <thead>\n    <tr style=\"text-align: right;\">\n      <th></th>\n      <th>Unnamed: 0</th>\n      <th>title</th>\n      <th>rank</th>\n      <th>date</th>\n      <th>artist</th>\n      <th>region</th>\n      <th>chart</th>\n      <th>trend</th>\n      <th>streams</th>\n      <th>album</th>\n      <th>...</th>\n      <th>af_key</th>\n      <th>af_loudness</th>\n      <th>af_mode</th>\n      <th>af_speechiness</th>\n      <th>af_acousticness</th>\n      <th>af_instrumentalness</th>\n      <th>af_liveness</th>\n      <th>af_valence</th>\n      <th>af_tempo</th>\n      <th>af_time_signature</th>\n    </tr>\n  </thead>\n  <tbody>\n    <tr>\n      <th>8246</th>\n      <td>8246</td>\n      <td>Bad and Boujee (feat. Lil Uzi Vert)</td>\n      <td>1</td>\n      <td>2017-01-01</td>\n      <td>Migos</td>\n      <td>United States</td>\n      <td>top200</td>\n      <td>SAME_POSITION</td>\n      <td>1371493.0</td>\n      <td>Culture</td>\n      <td>...</td>\n      <td>11.0</td>\n      <td>-5.314</td>\n      <td>1.0</td>\n      <td>0.2440</td>\n      <td>0.0611</td>\n      <td>0.000000</td>\n      <td>0.123</td>\n      <td>0.168</td>\n      <td>127.079</td>\n      <td>4.0</td>\n    </tr>\n    <tr>\n      <th>8247</th>\n      <td>8247</td>\n      <td>Fake Love</td>\n      <td>2</td>\n      <td>2017-01-01</td>\n      <td>Drake</td>\n      <td>United States</td>\n      <td>top200</td>\n      <td>SAME_POSITION</td>\n      <td>1180074.0</td>\n      <td>More Life</td>\n      <td>...</td>\n      <td>9.0</td>\n      <td>-9.350</td>\n      <td>0.0</td>\n      <td>0.2870</td>\n      <td>0.1050</td>\n      <td>0.000000</td>\n      <td>0.176</td>\n      <td>0.613</td>\n      <td>134.007</td>\n      <td>4.0</td>\n    </tr>\n    <tr>\n      <th>8248</th>\n      <td>8248</td>\n      <td>Starboy</td>\n      <td>3</td>\n      <td>2017-01-01</td>\n      <td>The Weeknd, Daft Punk</td>\n      <td>United States</td>\n      <td>top200</td>\n      <td>SAME_POSITION</td>\n      <td>1064351.0</td>\n      <td>Starboy</td>\n      <td>...</td>\n      <td>7.0</td>\n      <td>-7.028</td>\n      <td>1.0</td>\n      <td>0.2820</td>\n      <td>0.1650</td>\n      <td>0.000003</td>\n      <td>0.134</td>\n      <td>0.535</td>\n      <td>186.054</td>\n      <td>4.0</td>\n    </tr>\n    <tr>\n      <th>8249</th>\n      <td>8249</td>\n      <td>Closer</td>\n      <td>4</td>\n      <td>2017-01-01</td>\n      <td>The Chainsmokers, Halsey</td>\n      <td>United States</td>\n      <td>top200</td>\n      <td>SAME_POSITION</td>\n      <td>1010492.0</td>\n      <td>Closer</td>\n      <td>...</td>\n      <td>8.0</td>\n      <td>-5.599</td>\n      <td>1.0</td>\n      <td>0.0338</td>\n      <td>0.4140</td>\n      <td>0.000000</td>\n      <td>0.111</td>\n      <td>0.661</td>\n      <td>95.010</td>\n      <td>4.0</td>\n    </tr>\n    <tr>\n      <th>8250</th>\n      <td>8250</td>\n      <td>Black Beatles</td>\n      <td>5</td>\n      <td>2017-01-01</td>\n      <td>Rae Sremmurd, Gucci Mane</td>\n      <td>United States</td>\n      <td>top200</td>\n      <td>SAME_POSITION</td>\n      <td>874289.0</td>\n      <td>SremmLife 2 (Deluxe)</td>\n      <td>...</td>\n      <td>0.0</td>\n      <td>-6.163</td>\n      <td>1.0</td>\n      <td>0.0649</td>\n      <td>0.1420</td>\n      <td>0.000000</td>\n      <td>0.128</td>\n      <td>0.355</td>\n      <td>145.926</td>\n      <td>4.0</td>\n    </tr>\n  </tbody>\n</table>\n<p>5 rows × 26 columns</p>\n</div>"
     },
     "execution_count": 22,
     "metadata": {},
     "output_type": "execute_result"
    }
   ],
   "source": [
    "the_usa = partition_1[partition_1['region'] == 'United States']\n",
    "the_usa.head()"
   ],
   "metadata": {
    "collapsed": false,
    "ExecuteTime": {
     "end_time": "2024-07-10T14:40:23.244049Z",
     "start_time": "2024-07-10T14:40:23.185945300Z"
    }
   },
   "id": "69d9fecf8e10c14"
  },
  {
   "cell_type": "code",
   "execution_count": null,
   "outputs": [],
   "source": [],
   "metadata": {
    "collapsed": false
   },
   "id": "9e0cd449dd6bff74"
  }
 ],
 "metadata": {
  "kernelspec": {
   "display_name": "Python 3",
   "language": "python",
   "name": "python3"
  },
  "language_info": {
   "codemirror_mode": {
    "name": "ipython",
    "version": 2
   },
   "file_extension": ".py",
   "mimetype": "text/x-python",
   "name": "python",
   "nbconvert_exporter": "python",
   "pygments_lexer": "ipython2",
   "version": "2.7.6"
  }
 },
 "nbformat": 4,
 "nbformat_minor": 5
}
