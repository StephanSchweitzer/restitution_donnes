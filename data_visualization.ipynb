{
 "cells": [
  {
   "cell_type": "code",
   "execution_count": 1,
   "id": "initial_id",
   "metadata": {
    "collapsed": true,
    "ExecuteTime": {
     "end_time": "2024-07-24T08:34:31.813098500Z",
     "start_time": "2024-07-24T08:34:30.512284400Z"
    }
   },
   "outputs": [],
   "source": [
    "import pandas as pd\n",
    "import numpy as np\n",
    "import matplotlib.pyplot as plt\n",
    "import seaborn as sns"
   ]
  },
  {
   "cell_type": "code",
   "execution_count": 2,
   "outputs": [],
   "source": [
    "#part1 = pd.read_csv(\"partition_1.csv\", sep=\";\")\n",
    "#part2 = pd.read_csv(\"partition_2.csv\", sep=\";\")"
   ],
   "metadata": {
    "collapsed": false,
    "ExecuteTime": {
     "end_time": "2024-07-24T08:34:31.825121600Z",
     "start_time": "2024-07-24T08:34:31.815101500Z"
    }
   },
   "id": "a50ad568a119f202"
  },
  {
   "cell_type": "code",
   "execution_count": 3,
   "outputs": [],
   "source": [
    "#part2.columns = part1.columns"
   ],
   "metadata": {
    "collapsed": false,
    "ExecuteTime": {
     "end_time": "2024-07-24T08:34:31.834631Z",
     "start_time": "2024-07-24T08:34:31.819097600Z"
    }
   },
   "id": "cf95a90078cda626"
  },
  {
   "cell_type": "code",
   "execution_count": 4,
   "outputs": [],
   "source": [
    "#part1 = part1.drop(part1.columns[:2], axis=1)"
   ],
   "metadata": {
    "collapsed": false,
    "ExecuteTime": {
     "end_time": "2024-07-24T08:34:31.834631Z",
     "start_time": "2024-07-24T08:34:31.826146200Z"
    }
   },
   "id": "3a14080d9ab3903b"
  },
  {
   "cell_type": "code",
   "execution_count": 5,
   "outputs": [],
   "source": [
    "#part1.columns"
   ],
   "metadata": {
    "collapsed": false,
    "ExecuteTime": {
     "end_time": "2024-07-24T08:34:31.844631400Z",
     "start_time": "2024-07-24T08:34:31.831123200Z"
    }
   },
   "id": "ddccb52cc72e89ff"
  },
  {
   "cell_type": "code",
   "execution_count": 6,
   "outputs": [],
   "source": [
    "#part2.columns"
   ],
   "metadata": {
    "collapsed": false,
    "ExecuteTime": {
     "end_time": "2024-07-24T08:34:31.844631400Z",
     "start_time": "2024-07-24T08:34:31.836658600Z"
    }
   },
   "id": "6a6425fff2a6da95"
  },
  {
   "cell_type": "code",
   "execution_count": 7,
   "outputs": [],
   "source": [
    "#part2 = part2.drop(part2.columns[:2], axis=1)"
   ],
   "metadata": {
    "collapsed": false,
    "ExecuteTime": {
     "end_time": "2024-07-24T08:34:31.855637400Z",
     "start_time": "2024-07-24T08:34:31.842630100Z"
    }
   },
   "id": "9090dc49fb205766"
  },
  {
   "cell_type": "code",
   "execution_count": 8,
   "outputs": [],
   "source": [
    "#result = pd.concat([part1, part2], join='inner')"
   ],
   "metadata": {
    "collapsed": false,
    "ExecuteTime": {
     "end_time": "2024-07-24T08:34:31.856637200Z",
     "start_time": "2024-07-24T08:34:31.847631400Z"
    }
   },
   "id": "236120a3fc7f3839"
  },
  {
   "cell_type": "code",
   "execution_count": 9,
   "outputs": [],
   "source": [
    "#result.to_csv(\"fused_music_data.csv\", sep=\";\")"
   ],
   "metadata": {
    "collapsed": false,
    "ExecuteTime": {
     "end_time": "2024-07-24T08:34:31.867188500Z",
     "start_time": "2024-07-24T08:34:31.853635500Z"
    }
   },
   "id": "9d3e82c30b4d94d7"
  },
  {
   "cell_type": "code",
   "execution_count": 10,
   "outputs": [],
   "source": [
    "#f ="
   ],
   "metadata": {
    "collapsed": false,
    "ExecuteTime": {
     "end_time": "2024-07-24T08:34:31.868186300Z",
     "start_time": "2024-07-24T08:34:31.858639900Z"
    }
   },
   "id": "48c8b87e42f195c6"
  },
  {
   "cell_type": "code",
   "execution_count": 11,
   "outputs": [],
   "source": [
    "#music_df= pd.read_csv(\"fused_music_data.csv\", sep=\";\")"
   ],
   "metadata": {
    "collapsed": false,
    "ExecuteTime": {
     "end_time": "2024-07-24T08:34:31.869186200Z",
     "start_time": "2024-07-24T08:34:31.868186300Z"
    }
   },
   "id": "67df04a0e751144b"
  },
  {
   "cell_type": "code",
   "execution_count": 12,
   "outputs": [],
   "source": [
    "total_rows = 14857639\n",
    "rows_to_skip = total_rows - 5000000"
   ],
   "metadata": {
    "collapsed": false,
    "ExecuteTime": {
     "end_time": "2024-07-24T08:34:31.879186900Z",
     "start_time": "2024-07-24T08:34:31.869186200Z"
    }
   },
   "id": "8258e74b95c005f5"
  },
  {
   "cell_type": "code",
   "execution_count": 13,
   "outputs": [
    {
     "name": "stderr",
     "output_type": "stream",
     "text": [
      "/tmp/ipykernel_182587/3685375908.py:1: DtypeWarning: Columns (12) have mixed types. Specify dtype option on import or set low_memory=False.\n",
      "  partial_fused_music_df = pd.read_csv(\"fused_music_data.csv\", skiprows=range(1, rows_to_skip + 1), sep=\";\")\n"
     ]
    }
   ],
   "source": [
    "partial_fused_music_df = pd.read_csv(\"fused_music_data.csv\", skiprows=range(1, rows_to_skip + 1), sep=\";\")"
   ],
   "metadata": {
    "collapsed": false,
    "ExecuteTime": {
     "end_time": "2024-07-24T08:35:38.606456400Z",
     "start_time": "2024-07-24T08:34:31.875214Z"
    }
   },
   "id": "ac878b907d4e8e5d"
  },
  {
   "cell_type": "code",
   "execution_count": 14,
   "outputs": [],
   "source": [
    "partial_fused_music_df['date'] = pd.to_datetime(partial_fused_music_df['date'])"
   ],
   "metadata": {
    "collapsed": false,
    "ExecuteTime": {
     "end_time": "2024-07-24T08:35:39.576514700Z",
     "start_time": "2024-07-24T08:35:38.647236800Z"
    }
   },
   "id": "5e62286bf37925dc"
  },
  {
   "cell_type": "code",
   "execution_count": 15,
   "outputs": [],
   "source": [
    "top_10000_streamed_songs = partial_fused_music_df.sort_values(by='streams', ascending=False).head(10000)\n",
    "global_df = partial_fused_music_df[partial_fused_music_df['region'] == 'Global']\n"
   ],
   "metadata": {
    "collapsed": false,
    "ExecuteTime": {
     "end_time": "2024-07-24T08:35:44.457582900Z",
     "start_time": "2024-07-24T08:35:39.590388200Z"
    }
   },
   "id": "5d3b639a6a4aeb84"
  },
  {
   "cell_type": "code",
   "execution_count": 16,
   "outputs": [
    {
     "data": {
      "text/plain": "<bound method NDFrame.head of           Unnamed: 0                                       title  rank  \\\n13142456    12181531                                  Easy On Me     1   \n7992275      7031350             All I Want for Christmas Is You     1   \n7992276      7031351                              Last Christmas     2   \n6830408      5869483                             drivers license     1   \n6707191      5746266                             drivers license     1   \n...              ...                                         ...   ...   \n13381236    12420311                                     Silence     8   \n1664873       703948  Swalla (feat. Nicki Minaj & Ty Dolla $ign)    10   \n1138123       177198                              Break My Heart    14   \n11668913    10707988                           Happier Than Ever    18   \n15394527    14433602                                       IDGAF     5   \n\n               date              artist  region   chart          trend  \\\n13142456 2021-10-15               Adele  Global  top200        MOVE_UP   \n7992275  2020-12-24        Mariah Carey  Global  top200  SAME_POSITION   \n7992276  2020-12-24               Wham!  Global  top200  SAME_POSITION   \n6830408  2021-01-15      Olivia Rodrigo  Global  top200  SAME_POSITION   \n6707191  2021-01-14      Olivia Rodrigo  Global  top200  SAME_POSITION   \n...             ...                 ...     ...     ...            ...   \n13381236 2017-10-31  Marshmello, Khalid  Global  top200        MOVE_UP   \n1664873  2017-05-10        Jason Derulo  Global  top200        MOVE_UP   \n1138123  2020-04-24            Dua Lipa  Global  top200      MOVE_DOWN   \n11668913 2021-10-01       Billie Eilish  Global  top200      MOVE_DOWN   \n15394527 2018-01-31            Dua Lipa  Global  top200  SAME_POSITION   \n\n             streams                                       album  ...  af_key  \\\n13142456  19749704.0                                  Easy On Me  ...     5.0   \n7992275   17223237.0                             Merry Christmas  ...     7.0   \n7992276   15813799.0                              LAST CHRISTMAS  ...     2.0   \n6830408   13714177.0                             drivers license  ...    10.0   \n6707191   13701177.0                             drivers license  ...    10.0   \n...              ...                                         ...  ...     ...   \n13381236   2915837.0                                     Silence  ...     4.0   \n1664873    2915459.0  Swalla (feat. Nicki Minaj & Ty Dolla $ign)  ...     1.0   \n1138123    2915458.0                            Future Nostalgia  ...     4.0   \n11668913   2915400.0                           Happier Than Ever  ...     0.0   \n15394527   2915254.0                           Dua Lipa (Deluxe)  ...     7.0   \n\n          af_loudness af_mode af_speechiness  af_acousticness  \\\n13142456       -7.519     1.0         0.0282           0.5780   \n7992275        -7.463     1.0         0.0384           0.1640   \n7992276       -12.472     1.0         0.0293           0.1890   \n6830408        -8.761     1.0         0.0601           0.7210   \n6707191        -8.761     1.0         0.0601           0.7210   \n...               ...     ...            ...              ...   \n13381236       -3.093     1.0         0.0853           0.2560   \n1664873        -3.862     1.0         0.1090           0.0750   \n1138123        -3.434     0.0         0.0884           0.1670   \n11668913       -8.697     1.0         0.0348           0.7670   \n15394527       -5.975     1.0         0.0943           0.0403   \n\n          af_instrumentalness  af_liveness  af_valence  af_tempo  \\\n13142456             0.000000       0.1330       0.130   141.981   \n7992275              0.000000       0.0708       0.350   150.273   \n7992276              0.000002       0.3550       0.947   107.682   \n6830408              0.000013       0.1050       0.132   143.874   \n6707191              0.000013       0.1050       0.132   143.874   \n...                       ...          ...         ...       ...   \n13381236             0.000005       0.1700       0.286   141.971   \n1664873              0.000000       0.1870       0.782    98.064   \n1138123              0.000001       0.3490       0.467   113.011   \n11668913             0.003490       0.1280       0.297    81.055   \n15394527             0.000000       0.0824       0.510    97.028   \n\n          af_time_signature  \n13142456                4.0  \n7992275                 4.0  \n7992276                 4.0  \n6830408                 4.0  \n6707191                 4.0  \n...                     ...  \n13381236                4.0  \n1664873                 4.0  \n1138123                 4.0  \n11668913                3.0  \n15394527                4.0  \n\n[10000 rows x 26 columns]>"
     },
     "execution_count": 16,
     "metadata": {},
     "output_type": "execute_result"
    }
   ],
   "source": [
    "top_10000_streamed_songs.head"
   ],
   "metadata": {
    "collapsed": false,
    "ExecuteTime": {
     "end_time": "2024-07-24T08:35:44.621160600Z",
     "start_time": "2024-07-24T08:35:44.479587800Z"
    }
   },
   "id": "481c522df232307f"
  },
  {
   "cell_type": "code",
   "execution_count": 17,
   "outputs": [
    {
     "name": "stderr",
     "output_type": "stream",
     "text": [
      "/home/stef/miniconda3/envs/4A_IABD2/lib/python3.11/site-packages/seaborn/_oldcore.py:1119: FutureWarning: use_inf_as_na option is deprecated and will be removed in a future version. Convert inf values to NaN before operating instead.\n",
      "  with pd.option_context('mode.use_inf_as_na', True):\n"
     ]
    },
    {
     "data": {
      "text/plain": "<Figure size 1000x600 with 1 Axes>",
      "image/png": "[encoded data removed]"
     },
     "metadata": {},
     "output_type": "display_data"
    }
   ],
   "source": [
    "plt.figure(figsize=(10, 6))\n",
    "sns.histplot(top_10000_streamed_songs['streams'], bins=30, kde=True)\n",
    "plt.title('Distribution of Streams')\n",
    "plt.xlabel('Streams')\n",
    "plt.ylabel('Frequency')\n",
    "plt.show()"
   ],
   "metadata": {
    "collapsed": false,
    "ExecuteTime": {
     "end_time": "2024-07-24T08:35:45.521213800Z",
     "start_time": "2024-07-24T08:35:44.621160600Z"
    }
   },
   "id": "83f81d9574de8d90"
  },
  {
   "cell_type": "code",
   "execution_count": 18,
   "outputs": [],
   "source": [
    "numeric_columns = partial_fused_music_df.select_dtypes(include=['number'])\n"
   ],
   "metadata": {
    "collapsed": false,
    "ExecuteTime": {
     "end_time": "2024-07-24T08:35:45.882872400Z",
     "start_time": "2024-07-24T08:35:45.515730600Z"
    }
   },
   "id": "527c16be2884eb63"
  },
  {
   "cell_type": "code",
   "execution_count": 19,
   "outputs": [],
   "source": [
    "shortest_song = partial_fused_music_df.loc[partial_fused_music_df['duration_ms'].idxmin()]\n",
    "longest_song = partial_fused_music_df.loc[partial_fused_music_df['duration_ms'].idxmax()]\n"
   ],
   "metadata": {
    "collapsed": false,
    "ExecuteTime": {
     "end_time": "2024-07-24T08:35:45.998231200Z",
     "start_time": "2024-07-24T08:35:45.886873100Z"
    }
   },
   "id": "b6d083535479840c"
  },
  {
   "cell_type": "code",
   "execution_count": 20,
   "outputs": [
    {
     "data": {
      "text/plain": "Unnamed: 0                         9867508\ntitle                              DIP DIP\nrank                                     7\ndate                   2020-04-12 00:00:00\nartist                      Dree Low, Owen\nregion                              Sweden\nchart                               top200\ntrend                              MOVE_UP\nstreams                           110991.0\nalbum                                  NaN\npopularity                             0.0\nduration_ms                            0.0\nexplicit                              True\nrelease_date                          0000\naf_danceability                      0.815\naf_energy                            0.683\naf_key                                 6.0\naf_loudness                         -7.154\naf_mode                                0.0\naf_speechiness                       0.215\naf_acousticness                      0.203\naf_instrumentalness               0.000005\naf_liveness                           0.11\naf_valence                           0.573\naf_tempo                           100.111\naf_time_signature                      4.0\nName: 9869, dtype: object"
     },
     "execution_count": 20,
     "metadata": {},
     "output_type": "execute_result"
    }
   ],
   "source": [
    "shortest_song"
   ],
   "metadata": {
    "collapsed": false,
    "ExecuteTime": {
     "end_time": "2024-07-24T08:35:46.019003700Z",
     "start_time": "2024-07-24T08:35:46.008010400Z"
    }
   },
   "id": "7c18057a9ac7247e"
  },
  {
   "cell_type": "code",
   "execution_count": 21,
   "outputs": [
    {
     "data": {
      "text/plain": "Unnamed: 0                         10458495\ntitle                  Año Nuevo Colan 2017\nrank                                      2\ndate                    2017-01-02 00:00:00\nartist                    DJ Krlos Berrospi\nregion                                 Peru\nchart                               viral50\ntrend                             NEW_ENTRY\nstreams                                 NaN\nalbum                  Año Nuevo Colan 2017\npopularity                              0.0\nduration_ms                       9318296.0\nexplicit                              False\nrelease_date                     2016-12-21\naf_danceability                       0.517\naf_energy                             0.922\naf_key                                 11.0\naf_loudness                          -4.407\naf_mode                                 0.0\naf_speechiness                        0.112\naf_acousticness                      0.0422\naf_instrumentalness                     0.0\naf_liveness                           0.323\naf_valence                            0.747\naf_tempo                            102.947\naf_time_signature                       4.0\nName: 11419420, dtype: object"
     },
     "execution_count": 21,
     "metadata": {},
     "output_type": "execute_result"
    }
   ],
   "source": [
    "longest_song"
   ],
   "metadata": {
    "collapsed": false,
    "ExecuteTime": {
     "end_time": "2024-07-24T08:35:46.020000100Z",
     "start_time": "2024-07-24T08:35:46.009994300Z"
    }
   },
   "id": "2c66a1d2da152fc"
  },
  {
   "cell_type": "code",
   "execution_count": 22,
   "outputs": [
    {
     "name": "stderr",
     "output_type": "stream",
     "text": [
      "/tmp/ipykernel_182587/1125153591.py:4: SettingWithCopyWarning: \n",
      "A value is trying to be set on a copy of a slice from a DataFrame.\n",
      "Try using .loc[row_indexer,col_indexer] = value instead\n",
      "\n",
      "See the caveats in the documentation: https://pandas.pydata.org/pandas-docs/stable/user_guide/indexing.html#returning-a-view-versus-a-copy\n",
      "  unique_titles_df['duration_s'] = unique_titles_df['duration_ms'] / 1000\n"
     ]
    }
   ],
   "source": [
    "unique_titles_df = partial_fused_music_df.drop_duplicates(subset='title')\n",
    "\n",
    "# Convert the 'duration_ms' column to seconds\n",
    "unique_titles_df['duration_s'] = unique_titles_df['duration_ms'] / 1000"
   ],
   "metadata": {
    "collapsed": false,
    "ExecuteTime": {
     "end_time": "2024-07-24T08:35:46.838821700Z",
     "start_time": "2024-07-24T08:35:46.019003700Z"
    }
   },
   "id": "e5dc78442b0afb2f"
  },
  {
   "cell_type": "code",
   "execution_count": 23,
   "outputs": [],
   "source": [
    "# # Create the scatter plot\n",
    "# plt.figure(figsize=(12, 8))\n",
    "# sns.scatterplot(x='rank', y='duration_s', data=unique_titles_df)\n",
    "# plt.title('Song Length in Relation to Rank (Unique Titles)')\n",
    "# plt.xlabel('Rank')\n",
    "# plt.ylabel('Duration (seconds)')\n",
    "# plt.show()"
   ],
   "metadata": {
    "collapsed": false,
    "ExecuteTime": {
     "end_time": "2024-07-24T08:35:46.904713800Z",
     "start_time": "2024-07-24T08:35:46.832238300Z"
    }
   },
   "id": "cf26ba35a62b5883"
  },
  {
   "cell_type": "code",
   "execution_count": 25,
   "outputs": [
    {
     "data": {
      "text/plain": "<Figure size 1400x800 with 1 Axes>",
      "image/png": "[encoded data removed]"
     },
     "metadata": {},
     "output_type": "display_data"
    }
   ],
   "source": [
    "region_streams = partial_fused_music_df[partial_fused_music_df['region'] != 'Global']\n",
    "region_streams = region_streams.groupby('region')['streams'].sum().reset_index()\n",
    "\n",
    "# Sort the regions by the total streams and select the top 10\n",
    "top_10_region_streams = region_streams.sort_values(by='streams', ascending=False).head(10)\n",
    "\n",
    "# Create the bar plot\n",
    "plt.figure(figsize=(14, 8))\n",
    "sns.barplot(x='streams', y='region', data=top_10_region_streams, palette='viridis')\n",
    "plt.title('Top 10 Regions by Total Streams (Excluding Global)')\n",
    "plt.xlabel('Total Streams')\n",
    "plt.ylabel('Region')\n",
    "plt.show()"
   ],
   "metadata": {
    "collapsed": false,
    "ExecuteTime": {
     "end_time": "2024-07-24T08:47:13.296459300Z",
     "start_time": "2024-07-24T08:47:10.518158600Z"
    }
   },
   "id": "12e3db393cf5b3fe"
  },
  {
   "cell_type": "code",
   "execution_count": 24,
   "outputs": [],
   "source": [],
   "metadata": {
    "collapsed": false,
    "ExecuteTime": {
     "end_time": "2024-07-24T08:35:52.453823500Z",
     "start_time": "2024-07-24T08:35:52.339253100Z"
    }
   },
   "id": "8d94906d2b4d34a0"
  }
 ],
 "metadata": {
  "kernelspec": {
   "display_name": "Python 3",
   "language": "python",
   "name": "python3"
  },
  "language_info": {
   "codemirror_mode": {
    "name": "ipython",
    "version": 2
   },
   "file_extension": ".py",
   "mimetype": "text/x-python",
   "name": "python",
   "nbconvert_exporter": "python",
   "pygments_lexer": "ipython2",
   "version": "2.7.6"
  }
 },
 "nbformat": 4,
 "nbformat_minor": 5
}
